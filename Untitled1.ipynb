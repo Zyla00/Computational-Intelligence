{
  "nbformat": 4,
  "nbformat_minor": 0,
  "metadata": {
    "colab": {
      "provenance": [],
      "gpuType": "T4"
    },
    "kernelspec": {
      "name": "python3",
      "display_name": "Python 3"
    },
    "language_info": {
      "name": "python"
    },
    "accelerator": "GPU"
  },
  "cells": [
    {
      "cell_type": "code",
      "execution_count": 2,
      "metadata": {
        "colab": {
          "base_uri": "https://localhost:8080/"
        },
        "id": "PLn0VFxAl2rG",
        "outputId": "653a38f8-3155-46a2-fda3-1ece869da0d1"
      },
      "outputs": [
        {
          "output_type": "stream",
          "name": "stdout",
          "text": [
            "Mounted at /content/drive\n"
          ]
        }
      ],
      "source": [
        "# opening google colab\n",
        "from google.colab import drive\n",
        "drive.mount('/content/drive')"
      ]
    },
    {
      "cell_type": "code",
      "source": [
        "%cd /content/drive/MyDrive/Colab_CNN_owndataset # opening a folder on Google Drive where data, code and results will be saved"
      ],
      "metadata": {
        "colab": {
          "base_uri": "https://localhost:8080/"
        },
        "id": "auCBSmXsmXtK",
        "outputId": "dfac5872-107a-4160-d942-9ccfba9ec382"
      },
      "execution_count": 3,
      "outputs": [
        {
          "output_type": "stream",
          "name": "stdout",
          "text": [
            "[Errno 2] No such file or directory: '/content/drive/MyDrive/Colab_CNN_owndataset # opening a folder on Google Drive where data, code and results will be saved'\n",
            "/content\n"
          ]
        }
      ]
    },
    {
      "cell_type": "code",
      "source": [
        "from __future__ import print_function\n",
        "import numpy as np\n",
        "import math\n",
        "from math import ceil\n",
        "import tensorflow as tf\n",
        "import os\n",
        "import seaborn as sns\n",
        "import matplotlib.pyplot as plt\n",
        "import pandas as pd\n",
        "import keras\n",
        "from keras.datasets import mnist\n",
        "from keras import layers\n",
        "from keras import models\n",
        "from keras.models import Sequential\n",
        "from keras.layers import Dense, Dropout, Flatten\n",
        "from keras.layers import Conv2D, MaxPooling2D\n",
        "from keras import backend as K\n",
        "from keras.preprocessing.image import ImageDataGenerator\n",
        "from keras.callbacks import ReduceLROnPlateau\n",
        "from keras import optimizers\n",
        "from sklearn import metrics\n",
        "from sklearn.metrics import confusion_matrix, classification_report\n",
        "from keras.datasets import mnist\n",
        "import tensorflow\n",
        "from tensorflow.keras.utils import to_categorical\n",
        "from keras import regularizers\n",
        "\n",
        "# Set parameters for plots\n",
        "%matplotlib inline\n",
        "plt.rcParams['image.interpolation'] = 'nearest'\n",
        "plt.rcParams['image.cmap'] = 'gray'\n",
        "\n",
        "print (\"TensorFlow version: \" + tf.__version__)\n",
        "print (\"Keras version:\" + keras.__version__)"
      ],
      "metadata": {
        "colab": {
          "base_uri": "https://localhost:8080/"
        },
        "id": "ax6RmYqZmgWD",
        "outputId": "b009c7fe-3c39-4632-b435-e201aba7606f"
      },
      "execution_count": 1,
      "outputs": [
        {
          "output_type": "stream",
          "name": "stdout",
          "text": [
            "TensorFlow version: 2.15.0\n",
            "Keras version:2.15.0\n"
          ]
        }
      ]
    },
    {
      "cell_type": "code",
      "source": [
        "# The path to the directory for storing and loading our models\n",
        "models_dir = '/content/drive/MyDrive/Colab_CNN_owndataset'\n",
        "if not os.path.exists(models_dir):\n",
        "    os.mkdir(models_dir)"
      ],
      "metadata": {
        "id": "4QicGcOMmn_R"
      },
      "execution_count": 4,
      "outputs": []
    },
    {
      "cell_type": "code",
      "source": [
        "from tensorflow.keras import layers, Sequential\n",
        "from tensorflow.keras.callbacks import EarlyStopping\n",
        "from sklearn.model_selection import train_test_split\n",
        "from tensorflow import keras"
      ],
      "metadata": {
        "id": "9AlPxKHoyzVM"
      },
      "execution_count": 5,
      "outputs": []
    },
    {
      "cell_type": "code",
      "source": [
        "# dataset loading\n",
        "\n",
        "path = '/content/drive/MyDrive/Colab_CNN_owndataset/chineseMNIST.csv'\n",
        "ds = pd.read_csv(path)\n",
        "print(ds.shape)\n",
        "ds.head()"
      ],
      "metadata": {
        "colab": {
          "base_uri": "https://localhost:8080/",
          "height": 253
        },
        "id": "1UFqaq0XpB6d",
        "outputId": "a6f8eb40-7221-4656-da40-099b7c1587ad"
      },
      "execution_count": 6,
      "outputs": [
        {
          "output_type": "stream",
          "name": "stdout",
          "text": [
            "(15000, 4098)\n"
          ]
        },
        {
          "output_type": "execute_result",
          "data": {
            "text/plain": [
              "   pixel_0  pixel_1  pixel_2  pixel_3  pixel_4  pixel_5  pixel_6  pixel_7  \\\n",
              "0        0        0        0        0        0        0        0        0   \n",
              "1        0        0        0        0        0        0        0        0   \n",
              "2        0        0        0        0        0        0        0        0   \n",
              "3        0        0        0        0        0        0        0        0   \n",
              "4        0        0        0        0        0        0        0        0   \n",
              "\n",
              "   pixel_8  pixel_9  ...  pixel_4088  pixel_4089  pixel_4090  pixel_4091  \\\n",
              "0        0        0  ...           0           0           0           0   \n",
              "1        0        0  ...           0           0           0           0   \n",
              "2        0        0  ...           0           0           0           0   \n",
              "3        0        0  ...           0           0           0           0   \n",
              "4        0        0  ...           0           0           0           0   \n",
              "\n",
              "   pixel_4092  pixel_4093  pixel_4094  pixel_4095  label  character  \n",
              "0           0           0           0           0      9          九  \n",
              "1           0           0           0           0      9          九  \n",
              "2           0           0           0           0      9          九  \n",
              "3           0           0           0           0      9          九  \n",
              "4           0           0           0           0      9          九  \n",
              "\n",
              "[5 rows x 4098 columns]"
            ],
            "text/html": [
              "\n",
              "  <div id=\"df-73d1df41-41fc-4723-89e0-039f5bc4fdf9\" class=\"colab-df-container\">\n",
              "    <div>\n",
              "<style scoped>\n",
              "    .dataframe tbody tr th:only-of-type {\n",
              "        vertical-align: middle;\n",
              "    }\n",
              "\n",
              "    .dataframe tbody tr th {\n",
              "        vertical-align: top;\n",
              "    }\n",
              "\n",
              "    .dataframe thead th {\n",
              "        text-align: right;\n",
              "    }\n",
              "</style>\n",
              "<table border=\"1\" class=\"dataframe\">\n",
              "  <thead>\n",
              "    <tr style=\"text-align: right;\">\n",
              "      <th></th>\n",
              "      <th>pixel_0</th>\n",
              "      <th>pixel_1</th>\n",
              "      <th>pixel_2</th>\n",
              "      <th>pixel_3</th>\n",
              "      <th>pixel_4</th>\n",
              "      <th>pixel_5</th>\n",
              "      <th>pixel_6</th>\n",
              "      <th>pixel_7</th>\n",
              "      <th>pixel_8</th>\n",
              "      <th>pixel_9</th>\n",
              "      <th>...</th>\n",
              "      <th>pixel_4088</th>\n",
              "      <th>pixel_4089</th>\n",
              "      <th>pixel_4090</th>\n",
              "      <th>pixel_4091</th>\n",
              "      <th>pixel_4092</th>\n",
              "      <th>pixel_4093</th>\n",
              "      <th>pixel_4094</th>\n",
              "      <th>pixel_4095</th>\n",
              "      <th>label</th>\n",
              "      <th>character</th>\n",
              "    </tr>\n",
              "  </thead>\n",
              "  <tbody>\n",
              "    <tr>\n",
              "      <th>0</th>\n",
              "      <td>0</td>\n",
              "      <td>0</td>\n",
              "      <td>0</td>\n",
              "      <td>0</td>\n",
              "      <td>0</td>\n",
              "      <td>0</td>\n",
              "      <td>0</td>\n",
              "      <td>0</td>\n",
              "      <td>0</td>\n",
              "      <td>0</td>\n",
              "      <td>...</td>\n",
              "      <td>0</td>\n",
              "      <td>0</td>\n",
              "      <td>0</td>\n",
              "      <td>0</td>\n",
              "      <td>0</td>\n",
              "      <td>0</td>\n",
              "      <td>0</td>\n",
              "      <td>0</td>\n",
              "      <td>9</td>\n",
              "      <td>九</td>\n",
              "    </tr>\n",
              "    <tr>\n",
              "      <th>1</th>\n",
              "      <td>0</td>\n",
              "      <td>0</td>\n",
              "      <td>0</td>\n",
              "      <td>0</td>\n",
              "      <td>0</td>\n",
              "      <td>0</td>\n",
              "      <td>0</td>\n",
              "      <td>0</td>\n",
              "      <td>0</td>\n",
              "      <td>0</td>\n",
              "      <td>...</td>\n",
              "      <td>0</td>\n",
              "      <td>0</td>\n",
              "      <td>0</td>\n",
              "      <td>0</td>\n",
              "      <td>0</td>\n",
              "      <td>0</td>\n",
              "      <td>0</td>\n",
              "      <td>0</td>\n",
              "      <td>9</td>\n",
              "      <td>九</td>\n",
              "    </tr>\n",
              "    <tr>\n",
              "      <th>2</th>\n",
              "      <td>0</td>\n",
              "      <td>0</td>\n",
              "      <td>0</td>\n",
              "      <td>0</td>\n",
              "      <td>0</td>\n",
              "      <td>0</td>\n",
              "      <td>0</td>\n",
              "      <td>0</td>\n",
              "      <td>0</td>\n",
              "      <td>0</td>\n",
              "      <td>...</td>\n",
              "      <td>0</td>\n",
              "      <td>0</td>\n",
              "      <td>0</td>\n",
              "      <td>0</td>\n",
              "      <td>0</td>\n",
              "      <td>0</td>\n",
              "      <td>0</td>\n",
              "      <td>0</td>\n",
              "      <td>9</td>\n",
              "      <td>九</td>\n",
              "    </tr>\n",
              "    <tr>\n",
              "      <th>3</th>\n",
              "      <td>0</td>\n",
              "      <td>0</td>\n",
              "      <td>0</td>\n",
              "      <td>0</td>\n",
              "      <td>0</td>\n",
              "      <td>0</td>\n",
              "      <td>0</td>\n",
              "      <td>0</td>\n",
              "      <td>0</td>\n",
              "      <td>0</td>\n",
              "      <td>...</td>\n",
              "      <td>0</td>\n",
              "      <td>0</td>\n",
              "      <td>0</td>\n",
              "      <td>0</td>\n",
              "      <td>0</td>\n",
              "      <td>0</td>\n",
              "      <td>0</td>\n",
              "      <td>0</td>\n",
              "      <td>9</td>\n",
              "      <td>九</td>\n",
              "    </tr>\n",
              "    <tr>\n",
              "      <th>4</th>\n",
              "      <td>0</td>\n",
              "      <td>0</td>\n",
              "      <td>0</td>\n",
              "      <td>0</td>\n",
              "      <td>0</td>\n",
              "      <td>0</td>\n",
              "      <td>0</td>\n",
              "      <td>0</td>\n",
              "      <td>0</td>\n",
              "      <td>0</td>\n",
              "      <td>...</td>\n",
              "      <td>0</td>\n",
              "      <td>0</td>\n",
              "      <td>0</td>\n",
              "      <td>0</td>\n",
              "      <td>0</td>\n",
              "      <td>0</td>\n",
              "      <td>0</td>\n",
              "      <td>0</td>\n",
              "      <td>9</td>\n",
              "      <td>九</td>\n",
              "    </tr>\n",
              "  </tbody>\n",
              "</table>\n",
              "<p>5 rows × 4098 columns</p>\n",
              "</div>\n",
              "    <div class=\"colab-df-buttons\">\n",
              "\n",
              "  <div class=\"colab-df-container\">\n",
              "    <button class=\"colab-df-convert\" onclick=\"convertToInteractive('df-73d1df41-41fc-4723-89e0-039f5bc4fdf9')\"\n",
              "            title=\"Convert this dataframe to an interactive table.\"\n",
              "            style=\"display:none;\">\n",
              "\n",
              "  <svg xmlns=\"http://www.w3.org/2000/svg\" height=\"24px\" viewBox=\"0 -960 960 960\">\n",
              "    <path d=\"M120-120v-720h720v720H120Zm60-500h600v-160H180v160Zm220 220h160v-160H400v160Zm0 220h160v-160H400v160ZM180-400h160v-160H180v160Zm440 0h160v-160H620v160ZM180-180h160v-160H180v160Zm440 0h160v-160H620v160Z\"/>\n",
              "  </svg>\n",
              "    </button>\n",
              "\n",
              "  <style>\n",
              "    .colab-df-container {\n",
              "      display:flex;\n",
              "      gap: 12px;\n",
              "    }\n",
              "\n",
              "    .colab-df-convert {\n",
              "      background-color: #E8F0FE;\n",
              "      border: none;\n",
              "      border-radius: 50%;\n",
              "      cursor: pointer;\n",
              "      display: none;\n",
              "      fill: #1967D2;\n",
              "      height: 32px;\n",
              "      padding: 0 0 0 0;\n",
              "      width: 32px;\n",
              "    }\n",
              "\n",
              "    .colab-df-convert:hover {\n",
              "      background-color: #E2EBFA;\n",
              "      box-shadow: 0px 1px 2px rgba(60, 64, 67, 0.3), 0px 1px 3px 1px rgba(60, 64, 67, 0.15);\n",
              "      fill: #174EA6;\n",
              "    }\n",
              "\n",
              "    .colab-df-buttons div {\n",
              "      margin-bottom: 4px;\n",
              "    }\n",
              "\n",
              "    [theme=dark] .colab-df-convert {\n",
              "      background-color: #3B4455;\n",
              "      fill: #D2E3FC;\n",
              "    }\n",
              "\n",
              "    [theme=dark] .colab-df-convert:hover {\n",
              "      background-color: #434B5C;\n",
              "      box-shadow: 0px 1px 3px 1px rgba(0, 0, 0, 0.15);\n",
              "      filter: drop-shadow(0px 1px 2px rgba(0, 0, 0, 0.3));\n",
              "      fill: #FFFFFF;\n",
              "    }\n",
              "  </style>\n",
              "\n",
              "    <script>\n",
              "      const buttonEl =\n",
              "        document.querySelector('#df-73d1df41-41fc-4723-89e0-039f5bc4fdf9 button.colab-df-convert');\n",
              "      buttonEl.style.display =\n",
              "        google.colab.kernel.accessAllowed ? 'block' : 'none';\n",
              "\n",
              "      async function convertToInteractive(key) {\n",
              "        const element = document.querySelector('#df-73d1df41-41fc-4723-89e0-039f5bc4fdf9');\n",
              "        const dataTable =\n",
              "          await google.colab.kernel.invokeFunction('convertToInteractive',\n",
              "                                                    [key], {});\n",
              "        if (!dataTable) return;\n",
              "\n",
              "        const docLinkHtml = 'Like what you see? Visit the ' +\n",
              "          '<a target=\"_blank\" href=https://colab.research.google.com/notebooks/data_table.ipynb>data table notebook</a>'\n",
              "          + ' to learn more about interactive tables.';\n",
              "        element.innerHTML = '';\n",
              "        dataTable['output_type'] = 'display_data';\n",
              "        await google.colab.output.renderOutput(dataTable, element);\n",
              "        const docLink = document.createElement('div');\n",
              "        docLink.innerHTML = docLinkHtml;\n",
              "        element.appendChild(docLink);\n",
              "      }\n",
              "    </script>\n",
              "  </div>\n",
              "\n",
              "\n",
              "<div id=\"df-ef5ff568-40a2-47a6-960d-fe157fb85602\">\n",
              "  <button class=\"colab-df-quickchart\" onclick=\"quickchart('df-ef5ff568-40a2-47a6-960d-fe157fb85602')\"\n",
              "            title=\"Suggest charts\"\n",
              "            style=\"display:none;\">\n",
              "\n",
              "<svg xmlns=\"http://www.w3.org/2000/svg\" height=\"24px\"viewBox=\"0 0 24 24\"\n",
              "     width=\"24px\">\n",
              "    <g>\n",
              "        <path d=\"M19 3H5c-1.1 0-2 .9-2 2v14c0 1.1.9 2 2 2h14c1.1 0 2-.9 2-2V5c0-1.1-.9-2-2-2zM9 17H7v-7h2v7zm4 0h-2V7h2v10zm4 0h-2v-4h2v4z\"/>\n",
              "    </g>\n",
              "</svg>\n",
              "  </button>\n",
              "\n",
              "<style>\n",
              "  .colab-df-quickchart {\n",
              "      --bg-color: #E8F0FE;\n",
              "      --fill-color: #1967D2;\n",
              "      --hover-bg-color: #E2EBFA;\n",
              "      --hover-fill-color: #174EA6;\n",
              "      --disabled-fill-color: #AAA;\n",
              "      --disabled-bg-color: #DDD;\n",
              "  }\n",
              "\n",
              "  [theme=dark] .colab-df-quickchart {\n",
              "      --bg-color: #3B4455;\n",
              "      --fill-color: #D2E3FC;\n",
              "      --hover-bg-color: #434B5C;\n",
              "      --hover-fill-color: #FFFFFF;\n",
              "      --disabled-bg-color: #3B4455;\n",
              "      --disabled-fill-color: #666;\n",
              "  }\n",
              "\n",
              "  .colab-df-quickchart {\n",
              "    background-color: var(--bg-color);\n",
              "    border: none;\n",
              "    border-radius: 50%;\n",
              "    cursor: pointer;\n",
              "    display: none;\n",
              "    fill: var(--fill-color);\n",
              "    height: 32px;\n",
              "    padding: 0;\n",
              "    width: 32px;\n",
              "  }\n",
              "\n",
              "  .colab-df-quickchart:hover {\n",
              "    background-color: var(--hover-bg-color);\n",
              "    box-shadow: 0 1px 2px rgba(60, 64, 67, 0.3), 0 1px 3px 1px rgba(60, 64, 67, 0.15);\n",
              "    fill: var(--button-hover-fill-color);\n",
              "  }\n",
              "\n",
              "  .colab-df-quickchart-complete:disabled,\n",
              "  .colab-df-quickchart-complete:disabled:hover {\n",
              "    background-color: var(--disabled-bg-color);\n",
              "    fill: var(--disabled-fill-color);\n",
              "    box-shadow: none;\n",
              "  }\n",
              "\n",
              "  .colab-df-spinner {\n",
              "    border: 2px solid var(--fill-color);\n",
              "    border-color: transparent;\n",
              "    border-bottom-color: var(--fill-color);\n",
              "    animation:\n",
              "      spin 1s steps(1) infinite;\n",
              "  }\n",
              "\n",
              "  @keyframes spin {\n",
              "    0% {\n",
              "      border-color: transparent;\n",
              "      border-bottom-color: var(--fill-color);\n",
              "      border-left-color: var(--fill-color);\n",
              "    }\n",
              "    20% {\n",
              "      border-color: transparent;\n",
              "      border-left-color: var(--fill-color);\n",
              "      border-top-color: var(--fill-color);\n",
              "    }\n",
              "    30% {\n",
              "      border-color: transparent;\n",
              "      border-left-color: var(--fill-color);\n",
              "      border-top-color: var(--fill-color);\n",
              "      border-right-color: var(--fill-color);\n",
              "    }\n",
              "    40% {\n",
              "      border-color: transparent;\n",
              "      border-right-color: var(--fill-color);\n",
              "      border-top-color: var(--fill-color);\n",
              "    }\n",
              "    60% {\n",
              "      border-color: transparent;\n",
              "      border-right-color: var(--fill-color);\n",
              "    }\n",
              "    80% {\n",
              "      border-color: transparent;\n",
              "      border-right-color: var(--fill-color);\n",
              "      border-bottom-color: var(--fill-color);\n",
              "    }\n",
              "    90% {\n",
              "      border-color: transparent;\n",
              "      border-bottom-color: var(--fill-color);\n",
              "    }\n",
              "  }\n",
              "</style>\n",
              "\n",
              "  <script>\n",
              "    async function quickchart(key) {\n",
              "      const quickchartButtonEl =\n",
              "        document.querySelector('#' + key + ' button');\n",
              "      quickchartButtonEl.disabled = true;  // To prevent multiple clicks.\n",
              "      quickchartButtonEl.classList.add('colab-df-spinner');\n",
              "      try {\n",
              "        const charts = await google.colab.kernel.invokeFunction(\n",
              "            'suggestCharts', [key], {});\n",
              "      } catch (error) {\n",
              "        console.error('Error during call to suggestCharts:', error);\n",
              "      }\n",
              "      quickchartButtonEl.classList.remove('colab-df-spinner');\n",
              "      quickchartButtonEl.classList.add('colab-df-quickchart-complete');\n",
              "    }\n",
              "    (() => {\n",
              "      let quickchartButtonEl =\n",
              "        document.querySelector('#df-ef5ff568-40a2-47a6-960d-fe157fb85602 button');\n",
              "      quickchartButtonEl.style.display =\n",
              "        google.colab.kernel.accessAllowed ? 'block' : 'none';\n",
              "    })();\n",
              "  </script>\n",
              "</div>\n",
              "    </div>\n",
              "  </div>\n"
            ],
            "application/vnd.google.colaboratory.intrinsic+json": {
              "type": "dataframe",
              "variable_name": "ds"
            }
          },
          "metadata": {},
          "execution_count": 6
        }
      ]
    },
    {
      "cell_type": "code",
      "source": [
        "# dataset preprocessin\n",
        "labels_cols = ['label', 'character']\n",
        "data = ds.drop(labels_cols, axis=1).values\n",
        "labels = ds[labels_cols[0]].values\n",
        "characters = ds[labels_cols[1]].values\n",
        "data.shape, labels.shape, characters.shape"
      ],
      "metadata": {
        "colab": {
          "base_uri": "https://localhost:8080/"
        },
        "id": "wkqcM1Rwmn76",
        "outputId": "14735e2d-1832-4a99-939b-3530f51713c4"
      },
      "execution_count": 7,
      "outputs": [
        {
          "output_type": "execute_result",
          "data": {
            "text/plain": [
              "((15000, 4096), (15000,), (15000,))"
            ]
          },
          "metadata": {},
          "execution_count": 7
        }
      ]
    },
    {
      "cell_type": "code",
      "source": [
        "\n",
        "def processing_data(x):\n",
        "    images = []\n",
        "    for img in x:\n",
        "        image = img.reshape(64,64,1)\n",
        "        images.append(image)\n",
        "    return np.array(images).astype('float32')/255\n"
      ],
      "metadata": {
        "id": "iQcJnExdmn5j"
      },
      "execution_count": 8,
      "outputs": []
    },
    {
      "cell_type": "code",
      "source": [
        "def processing_target(chars, num_classes):\n",
        "    target = []\n",
        "    class_names = {}\n",
        "    count = count_values(chars)\n",
        "\n",
        "    for key, i in zip(count.keys(), range(num_classes)):\n",
        "        class_names[key] = i\n",
        "\n",
        "    labs = class_names.keys()\n",
        "\n",
        "    for char in chars:\n",
        "        pos = class_names[char]\n",
        "        row = []\n",
        "        for i in range(num_classes):\n",
        "            if pos != i:\n",
        "                row.append(0)\n",
        "            else:\n",
        "                row.append(1)\n",
        "        target.append(row)\n",
        "    return np.array(target).astype('float32'), class_names"
      ],
      "metadata": {
        "id": "CexovZl66baa"
      },
      "execution_count": 9,
      "outputs": []
    },
    {
      "cell_type": "code",
      "source": [
        "def count_values(arr):\n",
        "    dic = {}\n",
        "    for val in arr:\n",
        "        if val not in dic.keys():\n",
        "            dic[val] = 1\n",
        "        else:\n",
        "            dic[val] += 1\n",
        "    return dic"
      ],
      "metadata": {
        "id": "eoXkU1qb6gdu"
      },
      "execution_count": 10,
      "outputs": []
    },
    {
      "cell_type": "code",
      "source": [
        "def plot_images(imgs, dims, figsize, title_size, preds=[]):\n",
        "    plt.figure(figsize=figsize)\n",
        "    for img, i, in zip(imgs, np.arange(imgs.shape[0])):\n",
        "        plt.subplot(dims[0], dims[1], i+1)\n",
        "        plt.imshow(np.squeeze(img), cmap='gray')\n",
        "        plt.axis('off')\n",
        "        title = f'Image {i+1}'\n",
        "        if preds != []:\n",
        "            title = f'Real: {preds[i][0]}, Pred: {preds[i][1]}'\n",
        "        plt.title(title, fontsize=title_size)\n",
        "    plt.show()"
      ],
      "metadata": {
        "id": "_sPVZGcq6gaN"
      },
      "execution_count": 11,
      "outputs": []
    },
    {
      "cell_type": "code",
      "source": [
        "\n",
        "sample_data = processing_data(data[:8008:501])\n",
        "\n",
        "plot_images(sample_data, dims=(6, 8), figsize=(16, 12), title_size=9)\n"
      ],
      "metadata": {
        "colab": {
          "base_uri": "https://localhost:8080/",
          "height": 345
        },
        "id": "F8Ua0tmx7yqR",
        "outputId": "29f9d3df-5428-4ce7-847e-33571bc1c806"
      },
      "execution_count": 12,
      "outputs": [
        {
          "output_type": "display_data",
          "data": {
            "text/plain": [
              "<Figure size 1600x1200 with 16 Axes>"
            ],
            "image/png": "[encoded data removed]"
          },
          "metadata": {}
        }
      ]
    },
    {
      "cell_type": "code",
      "source": [
        "# get the images from the df as arrays\n",
        "X = processing_data(data)\n",
        "\n",
        "# and obtain the target data from the characters\n",
        "Y, class_names = processing_target(characters, num_classes=15)\n",
        "\n",
        "X.shape, X.dtype, Y.shape, Y.dtype"
      ],
      "metadata": {
        "colab": {
          "base_uri": "https://localhost:8080/"
        },
        "id": "jjAHIilSmn3f",
        "outputId": "6e9ac1ff-2efe-4f41-d911-0f04ae41f3d3"
      },
      "execution_count": 13,
      "outputs": [
        {
          "output_type": "execute_result",
          "data": {
            "text/plain": [
              "((15000, 64, 64, 1), dtype('float32'), (15000, 15), dtype('float32'))"
            ]
          },
          "metadata": {},
          "execution_count": 13
        }
      ]
    },
    {
      "cell_type": "code",
      "source": [
        "from sklearn.model_selection import train_test_split\n",
        "\n",
        "# Split the dataset into train, validation, and test sets\n",
        "x_train, x_temp, y_train, y_temp = train_test_split(X, Y, test_size=0.2, random_state=42, shuffle=True)\n",
        "x_validation, x_test, y_validation, y_test = train_test_split(x_temp, y_temp, test_size=0.5, random_state=42, shuffle=True)"
      ],
      "metadata": {
        "id": "sp4AVZiw3S3i"
      },
      "execution_count": 14,
      "outputs": []
    },
    {
      "cell_type": "code",
      "source": [
        "# Display the shapes of the datasets\n",
        "print(\"Shape of training data:\", x_train.shape)\n",
        "print(\"Shape of validation data:\", x_validation.shape)\n",
        "print(\"Shape of test data:\", x_test.shape)\n",
        "\n",
        "# Display the shapes of the labels\n",
        "print(\"Shape of training labels:\", y_train.shape)\n",
        "print(\"Shape of validation labels:\", y_validation.shape)\n",
        "print(\"Shape of test labels:\", y_test.shape)"
      ],
      "metadata": {
        "colab": {
          "base_uri": "https://localhost:8080/"
        },
        "id": "DAwQKNfG3gJO",
        "outputId": "594be890-39af-4549-f8c0-96497218de46"
      },
      "execution_count": 15,
      "outputs": [
        {
          "output_type": "stream",
          "name": "stdout",
          "text": [
            "Shape of training data: (12000, 64, 64, 1)\n",
            "Shape of validation data: (1500, 64, 64, 1)\n",
            "Shape of test data: (1500, 64, 64, 1)\n",
            "Shape of training labels: (12000, 15)\n",
            "Shape of validation labels: (1500, 15)\n",
            "Shape of test labels: (1500, 15)\n"
          ]
        }
      ]
    },
    {
      "cell_type": "code",
      "source": [
        "## Distribution of the numbers training data of various classes\n",
        "print ('Distribution of the numbers training data of various classes: ', np.unique(y_train, return_counts=True))\n",
        "\n",
        "## Distribution of the numbers training data of various classes\n",
        "print ('Distribution of the numbers validation data of various classes: ', np.unique(y_validation, return_counts=True))"
      ],
      "metadata": {
        "colab": {
          "base_uri": "https://localhost:8080/"
        },
        "id": "C2593ggh5f4m",
        "outputId": "0f12c37e-e9f2-4efb-f457-cccfdef7f55d"
      },
      "execution_count": 16,
      "outputs": [
        {
          "output_type": "stream",
          "name": "stdout",
          "text": [
            "Distribution of the numbers training data of various classes:  (array([0., 1.], dtype=float32), array([168000,  12000]))\n",
            "Distribution of the numbers validation data of various classes:  (array([0., 1.], dtype=float32), array([21000,  1500]))\n"
          ]
        }
      ]
    },
    {
      "cell_type": "markdown",
      "source": [
        "#Model1"
      ],
      "metadata": {
        "id": "w_kIMcrL_Gkz"
      }
    },
    {
      "cell_type": "code",
      "source": [
        "from keras import models, layers\n",
        "\n",
        "# Initialize the model\n",
        "model1 = models.Sequential()\n",
        "# Add a convolutional layer\n",
        "model1.add(layers.Conv2D(32, (3, 3), activation='relu', input_shape=(64,64,1)))\n",
        "# Add a max pooling layer\n",
        "model1.add(layers.MaxPooling2D((2, 2)))\n",
        "# Add another convolutional layer\n",
        "model1.add(layers.Conv2D(64, (3, 3), activation='relu'))\n",
        "# Add another max pooling layer\n",
        "model1.add(layers.MaxPooling2D((2, 2)))\n",
        "# Add another convolutional layer\n",
        "model1.add(layers.Conv2D(64, (3, 3), activation='relu'))\n",
        "# Flatten the data\n",
        "model1.add(layers.Flatten())\n",
        "# Add a Dense layer\n",
        "model1.add(layers.Dense(64, activation='relu'))\n",
        "# Output layer with softmax activation function\n",
        "model1.add(layers.Dense(15, activation='softmax'))\n",
        "# Display the summary of the model\n",
        "model1.summary()\n"
      ],
      "metadata": {
        "colab": {
          "base_uri": "https://localhost:8080/"
        },
        "id": "qCSn-xHgGdgg",
        "outputId": "36b71562-4ed8-4ddf-9031-3ff3ed201752"
      },
      "execution_count": 18,
      "outputs": [
        {
          "output_type": "stream",
          "name": "stdout",
          "text": [
            "Model: \"sequential_1\"\n",
            "_________________________________________________________________\n",
            " Layer (type)                Output Shape              Param #   \n",
            "=================================================================\n",
            " conv2d_5 (Conv2D)           (None, 62, 62, 32)        320       \n",
            "                                                                 \n",
            " max_pooling2d_3 (MaxPoolin  (None, 31, 31, 32)        0         \n",
            " g2D)                                                            \n",
            "                                                                 \n",
            " conv2d_6 (Conv2D)           (None, 29, 29, 64)        18496     \n",
            "                                                                 \n",
            " max_pooling2d_4 (MaxPoolin  (None, 14, 14, 64)        0         \n",
            " g2D)                                                            \n",
            "                                                                 \n",
            " conv2d_7 (Conv2D)           (None, 12, 12, 64)        36928     \n",
            "                                                                 \n",
            " flatten_1 (Flatten)         (None, 9216)              0         \n",
            "                                                                 \n",
            " dense_3 (Dense)             (None, 64)                589888    \n",
            "                                                                 \n",
            " dense_4 (Dense)             (None, 15)                975       \n",
            "                                                                 \n",
            "=================================================================\n",
            "Total params: 646607 (2.47 MB)\n",
            "Trainable params: 646607 (2.47 MB)\n",
            "Non-trainable params: 0 (0.00 Byte)\n",
            "_________________________________________________________________\n"
          ]
        }
      ]
    },
    {
      "cell_type": "markdown",
      "source": [
        "EarlyStopping is a technique used in training neural network models to prevent overfitting. It works by monitoring a specified metric (validation loss, during the training process). If the monitored metric fails to improve for a certain number of consecutive epochs, as determined by the patience parameter, the training process is halted early.\n",
        "\n",
        "To utilize EarlyStopping in Keras, you first create an EarlyStopping callback object, specifying the metric to monitor (e.g., 'val_loss') and the patience value. Then, you include this callback in the callbacks parameter when fitting your model using the fit() method.\n"
      ],
      "metadata": {
        "id": "MxKSjakRHBuP"
      }
    },
    {
      "cell_type": "code",
      "source": [
        "epochs = 50\n",
        "batch_size = 256\n",
        "early_stopping = EarlyStopping(monitor='val_loss', patience=2)\n",
        "\n",
        "model1.compile(optimizer='rmsprop',\n",
        "                loss='categorical_crossentropy',\n",
        "                metrics=['acc'])\n",
        "\n",
        "# Save weights of the model before training to enable to start training it again\n",
        "model1.save_weights(models_dir + 'CNN_MNIST_own_1_weights_init.h5')\n",
        "\n",
        "history1 = model1.fit(x_train, y_train, epochs = epochs, batch_size = batch_size, validation_data=(x_validation, y_validation))"
      ],
      "metadata": {
        "colab": {
          "base_uri": "https://localhost:8080/"
        },
        "id": "rFZ7DrpA-oNW",
        "outputId": "c3e5b62d-c76a-47d9-e5f2-bc8598d82bed"
      },
      "execution_count": null,
      "outputs": [
        {
          "output_type": "stream",
          "name": "stdout",
          "text": [
            "Epoch 1/50\n",
            "47/47 [==============================] - 9s 61ms/step - loss: 1.9391 - acc: 0.3961 - val_loss: 1.3318 - val_acc: 0.5793\n",
            "Epoch 2/50\n",
            "47/47 [==============================] - 2s 33ms/step - loss: 0.8751 - acc: 0.7233 - val_loss: 0.5698 - val_acc: 0.8253\n",
            "Epoch 3/50\n",
            "47/47 [==============================] - 1s 31ms/step - loss: 0.5125 - acc: 0.8317 - val_loss: 0.6454 - val_acc: 0.7607\n",
            "Epoch 4/50\n",
            "47/47 [==============================] - 1s 31ms/step - loss: 0.3740 - acc: 0.8780 - val_loss: 0.2909 - val_acc: 0.9160\n",
            "Epoch 5/50\n",
            "47/47 [==============================] - 2s 35ms/step - loss: 0.2532 - acc: 0.9199 - val_loss: 0.3871 - val_acc: 0.8753\n",
            "Epoch 6/50\n",
            "47/47 [==============================] - 2s 33ms/step - loss: 0.2251 - acc: 0.9282 - val_loss: 0.1989 - val_acc: 0.9433\n",
            "Epoch 7/50\n",
            "47/47 [==============================] - 1s 30ms/step - loss: 0.1598 - acc: 0.9498 - val_loss: 0.1612 - val_acc: 0.9487\n",
            "Epoch 8/50\n",
            "47/47 [==============================] - 1s 27ms/step - loss: 0.1413 - acc: 0.9577 - val_loss: 0.1736 - val_acc: 0.9513\n",
            "Epoch 9/50\n",
            "47/47 [==============================] - 1s 23ms/step - loss: 0.1116 - acc: 0.9647 - val_loss: 0.1458 - val_acc: 0.9620\n",
            "Epoch 10/50\n",
            "47/47 [==============================] - 1s 24ms/step - loss: 0.0985 - acc: 0.9690 - val_loss: 0.1374 - val_acc: 0.9547\n",
            "Epoch 11/50\n",
            "47/47 [==============================] - 1s 23ms/step - loss: 0.0763 - acc: 0.9762 - val_loss: 0.1286 - val_acc: 0.9613\n",
            "Epoch 12/50\n",
            "47/47 [==============================] - 1s 23ms/step - loss: 0.0571 - acc: 0.9834 - val_loss: 0.1816 - val_acc: 0.9533\n",
            "Epoch 13/50\n",
            "47/47 [==============================] - 1s 24ms/step - loss: 0.0708 - acc: 0.9804 - val_loss: 0.1384 - val_acc: 0.9613\n",
            "Epoch 14/50\n",
            "47/47 [==============================] - 1s 23ms/step - loss: 0.0476 - acc: 0.9862 - val_loss: 0.1379 - val_acc: 0.9667\n",
            "Epoch 15/50\n",
            "47/47 [==============================] - 1s 24ms/step - loss: 0.0390 - acc: 0.9877 - val_loss: 0.1080 - val_acc: 0.9707\n",
            "Epoch 16/50\n",
            "47/47 [==============================] - 2s 34ms/step - loss: 0.0411 - acc: 0.9885 - val_loss: 0.1724 - val_acc: 0.9493\n",
            "Epoch 17/50\n",
            "47/47 [==============================] - 2s 34ms/step - loss: 0.0268 - acc: 0.9923 - val_loss: 0.0891 - val_acc: 0.9787\n",
            "Epoch 18/50\n",
            "47/47 [==============================] - 1s 24ms/step - loss: 0.0328 - acc: 0.9912 - val_loss: 0.1010 - val_acc: 0.9753\n",
            "Epoch 19/50\n",
            "47/47 [==============================] - 1s 24ms/step - loss: 0.0312 - acc: 0.9937 - val_loss: 0.1141 - val_acc: 0.9713\n",
            "Epoch 20/50\n",
            "47/47 [==============================] - 2s 36ms/step - loss: 0.0196 - acc: 0.9950 - val_loss: 0.1277 - val_acc: 0.9700\n",
            "Epoch 21/50\n",
            "47/47 [==============================] - 1s 25ms/step - loss: 0.0232 - acc: 0.9949 - val_loss: 0.1113 - val_acc: 0.9687\n",
            "Epoch 22/50\n",
            "47/47 [==============================] - 1s 24ms/step - loss: 0.0143 - acc: 0.9966 - val_loss: 0.1129 - val_acc: 0.9720\n",
            "Epoch 23/50\n",
            "47/47 [==============================] - 1s 23ms/step - loss: 0.0228 - acc: 0.9952 - val_loss: 0.1174 - val_acc: 0.9733\n",
            "Epoch 24/50\n",
            "47/47 [==============================] - 1s 23ms/step - loss: 0.0170 - acc: 0.9966 - val_loss: 0.1655 - val_acc: 0.9573\n",
            "Epoch 25/50\n",
            "47/47 [==============================] - 1s 24ms/step - loss: 0.0087 - acc: 0.9979 - val_loss: 0.1199 - val_acc: 0.9760\n",
            "Epoch 26/50\n",
            "47/47 [==============================] - 1s 26ms/step - loss: 0.0219 - acc: 0.9948 - val_loss: 0.1195 - val_acc: 0.9753\n",
            "Epoch 27/50\n",
            "47/47 [==============================] - 1s 25ms/step - loss: 0.0209 - acc: 0.9949 - val_loss: 0.1307 - val_acc: 0.9753\n",
            "Epoch 28/50\n",
            "47/47 [==============================] - 1s 24ms/step - loss: 0.0019 - acc: 0.9997 - val_loss: 0.2271 - val_acc: 0.9567\n",
            "Epoch 29/50\n",
            "47/47 [==============================] - 1s 23ms/step - loss: 0.0186 - acc: 0.9958 - val_loss: 0.1180 - val_acc: 0.9720\n",
            "Epoch 30/50\n",
            "47/47 [==============================] - 1s 24ms/step - loss: 0.0197 - acc: 0.9953 - val_loss: 0.1104 - val_acc: 0.9713\n",
            "Epoch 31/50\n",
            "47/47 [==============================] - 1s 23ms/step - loss: 0.0018 - acc: 0.9997 - val_loss: 0.1222 - val_acc: 0.9740\n",
            "Epoch 32/50\n",
            "47/47 [==============================] - 1s 23ms/step - loss: 0.0139 - acc: 0.9968 - val_loss: 0.1272 - val_acc: 0.9747\n",
            "Epoch 33/50\n",
            "47/47 [==============================] - 1s 23ms/step - loss: 0.0153 - acc: 0.9962 - val_loss: 0.1182 - val_acc: 0.9753\n",
            "Epoch 34/50\n",
            "47/47 [==============================] - 1s 23ms/step - loss: 0.0020 - acc: 0.9997 - val_loss: 0.1197 - val_acc: 0.9767\n",
            "Epoch 35/50\n",
            "47/47 [==============================] - 1s 23ms/step - loss: 3.1951e-04 - acc: 1.0000 - val_loss: 0.1202 - val_acc: 0.9793\n",
            "Epoch 36/50\n",
            "47/47 [==============================] - 1s 23ms/step - loss: 1.9936e-04 - acc: 1.0000 - val_loss: 0.1240 - val_acc: 0.9793\n",
            "Epoch 37/50\n",
            "47/47 [==============================] - 1s 30ms/step - loss: 1.3113e-04 - acc: 1.0000 - val_loss: 0.1295 - val_acc: 0.9780\n",
            "Epoch 38/50\n",
            "47/47 [==============================] - 2s 34ms/step - loss: 8.5097e-05 - acc: 1.0000 - val_loss: 0.1334 - val_acc: 0.9773\n",
            "Epoch 39/50\n",
            "47/47 [==============================] - 2s 39ms/step - loss: 6.9659e-05 - acc: 1.0000 - val_loss: 0.1379 - val_acc: 0.9773\n",
            "Epoch 40/50\n",
            "47/47 [==============================] - 2s 34ms/step - loss: 5.5053e-05 - acc: 1.0000 - val_loss: 0.1426 - val_acc: 0.9787\n",
            "Epoch 41/50\n",
            "47/47 [==============================] - 1s 24ms/step - loss: 4.6115e-05 - acc: 1.0000 - val_loss: 0.1409 - val_acc: 0.9793\n",
            "Epoch 42/50\n",
            "47/47 [==============================] - 1s 23ms/step - loss: 4.0571e-05 - acc: 1.0000 - val_loss: 0.1425 - val_acc: 0.9773\n",
            "Epoch 43/50\n",
            "47/47 [==============================] - 1s 23ms/step - loss: 3.4763e-05 - acc: 1.0000 - val_loss: 0.1458 - val_acc: 0.9773\n",
            "Epoch 44/50\n",
            "47/47 [==============================] - 1s 23ms/step - loss: 3.0048e-05 - acc: 1.0000 - val_loss: 0.1467 - val_acc: 0.9767\n",
            "Epoch 45/50\n",
            "47/47 [==============================] - 1s 23ms/step - loss: 2.7299e-05 - acc: 1.0000 - val_loss: 0.1485 - val_acc: 0.9773\n",
            "Epoch 46/50\n",
            "47/47 [==============================] - 1s 23ms/step - loss: 2.5092e-05 - acc: 1.0000 - val_loss: 0.1477 - val_acc: 0.9780\n",
            "Epoch 47/50\n",
            "47/47 [==============================] - 1s 23ms/step - loss: 2.2689e-05 - acc: 1.0000 - val_loss: 0.1506 - val_acc: 0.9773\n",
            "Epoch 48/50\n",
            "47/47 [==============================] - 1s 25ms/step - loss: 2.1631e-05 - acc: 1.0000 - val_loss: 0.1509 - val_acc: 0.9767\n",
            "Epoch 49/50\n",
            "47/47 [==============================] - 1s 26ms/step - loss: 1.9214e-05 - acc: 1.0000 - val_loss: 0.1531 - val_acc: 0.9773\n",
            "Epoch 50/50\n",
            "47/47 [==============================] - 1s 24ms/step - loss: 1.8635e-05 - acc: 1.0000 - val_loss: 0.1534 - val_acc: 0.9773\n"
          ]
        }
      ]
    },
    {
      "cell_type": "code",
      "source": [
        "model1.save(models_dir + 'CNN_MNIST_own_1.h5')"
      ],
      "metadata": {
        "colab": {
          "base_uri": "https://localhost:8080/"
        },
        "id": "C7DwHLxg-oG9",
        "outputId": "cfdb5d3b-0a3b-4d05-aba6-708f1e76c8af"
      },
      "execution_count": null,
      "outputs": [
        {
          "output_type": "stream",
          "name": "stderr",
          "text": [
            "/usr/local/lib/python3.10/dist-packages/keras/src/engine/training.py:3103: UserWarning: You are saving your model as an HDF5 file via `model.save()`. This file format is considered legacy. We recommend using instead the native Keras format, e.g. `model.save('my_model.keras')`.\n",
            "  saving_api.save_model(\n"
          ]
        }
      ]
    },
    {
      "cell_type": "code",
      "source": [
        "val_loss1, val_acc1 = model1.evaluate(x_validation, y_validation)\n",
        "print('validation accuracy:', val_acc1)\n",
        "print('validation loss:', val_loss1)"
      ],
      "metadata": {
        "colab": {
          "base_uri": "https://localhost:8080/"
        },
        "id": "AwY7dQtJ-oDl",
        "outputId": "a22016e0-9e9b-4682-f7e6-e063439873b7"
      },
      "execution_count": null,
      "outputs": [
        {
          "output_type": "stream",
          "name": "stdout",
          "text": [
            "47/47 [==============================] - 0s 5ms/step - loss: 0.1534 - acc: 0.9773\n",
            "validation accuracy: 0.9773333072662354\n",
            "validation loss: 0.15338239073753357\n"
          ]
        }
      ]
    },
    {
      "cell_type": "code",
      "source": [
        "argmax = np.argmin(history1.history['val_acc'])\n",
        "acc_max = history1.history['val_acc'][argmax]\n",
        "print ('The best accuracy ', acc_max, ' for validation set we achieved in epoch: ', argmax)"
      ],
      "metadata": {
        "colab": {
          "base_uri": "https://localhost:8080/"
        },
        "id": "XReueV5n-oBm",
        "outputId": "70921a9b-6eb4-4d08-9d2f-40692fc631f8"
      },
      "execution_count": null,
      "outputs": [
        {
          "output_type": "stream",
          "name": "stdout",
          "text": [
            "The best accuracy  0.5793333053588867  for validation set we achieved in epoch:  0\n"
          ]
        }
      ]
    },
    {
      "cell_type": "code",
      "source": [
        "argmin = np.argmin(history1.history['val_loss'])\n",
        "loss_min = history1.history['val_loss'][argmin]\n",
        "print ('Overfitting stated after epoch: ', argmin, 'where the mininum loss was ', loss_min)"
      ],
      "metadata": {
        "colab": {
          "base_uri": "https://localhost:8080/"
        },
        "id": "LrBluNVt-n_F",
        "outputId": "10efc6b6-8498-4d8c-ef34-b6e7074e2a98"
      },
      "execution_count": null,
      "outputs": [
        {
          "output_type": "stream",
          "name": "stdout",
          "text": [
            "Overfitting stated after epoch:  16 where the mininum loss was  0.08914589136838913\n"
          ]
        }
      ]
    },
    {
      "cell_type": "code",
      "source": [
        "epochs = 16\n",
        "batch_size = 256\n",
        "early_stopping = EarlyStopping(monitor='val_loss', patience=2)\n",
        "\n",
        "model1.compile(optimizer='rmsprop',\n",
        "                loss='categorical_crossentropy',\n",
        "                metrics=['acc'])\n",
        "\n",
        "# Save weights of the model before training to enable to start training it again\n",
        "model1.save_weights(models_dir + 'CNN_MNIST_own_1b_weights_init.h5')\n",
        "\n",
        "history1b = model1.fit(x_train, y_train, epochs = epochs, batch_size = batch_size, validation_data=(x_validation, y_validation))"
      ],
      "metadata": {
        "colab": {
          "base_uri": "https://localhost:8080/"
        },
        "id": "mwPDhJpZ-n85",
        "outputId": "8972bda8-ece5-4dd6-d145-877985982857"
      },
      "execution_count": null,
      "outputs": [
        {
          "output_type": "stream",
          "name": "stdout",
          "text": [
            "Epoch 1/16\n",
            "47/47 [==============================] - 2s 28ms/step - loss: 1.7151e-05 - acc: 1.0000 - val_loss: 0.1547 - val_acc: 0.9773\n",
            "Epoch 2/16\n",
            "47/47 [==============================] - 1s 26ms/step - loss: 1.6125e-05 - acc: 1.0000 - val_loss: 0.1550 - val_acc: 0.9773\n",
            "Epoch 3/16\n",
            "47/47 [==============================] - 1s 25ms/step - loss: 1.5152e-05 - acc: 1.0000 - val_loss: 0.1575 - val_acc: 0.9767\n",
            "Epoch 4/16\n",
            "47/47 [==============================] - 1s 24ms/step - loss: 1.4293e-05 - acc: 1.0000 - val_loss: 0.1561 - val_acc: 0.9780\n",
            "Epoch 5/16\n",
            "47/47 [==============================] - 1s 23ms/step - loss: 1.3533e-05 - acc: 1.0000 - val_loss: 0.1587 - val_acc: 0.9773\n",
            "Epoch 6/16\n",
            "47/47 [==============================] - 1s 23ms/step - loss: 1.3295e-05 - acc: 1.0000 - val_loss: 0.1579 - val_acc: 0.9767\n",
            "Epoch 7/16\n",
            "47/47 [==============================] - 1s 24ms/step - loss: 1.2666e-05 - acc: 1.0000 - val_loss: 0.1597 - val_acc: 0.9773\n",
            "Epoch 8/16\n",
            "47/47 [==============================] - 1s 24ms/step - loss: 1.1944e-05 - acc: 1.0000 - val_loss: 0.1599 - val_acc: 0.9773\n",
            "Epoch 9/16\n",
            "47/47 [==============================] - 1s 23ms/step - loss: 1.1282e-05 - acc: 1.0000 - val_loss: 0.1620 - val_acc: 0.9773\n",
            "Epoch 10/16\n",
            "47/47 [==============================] - 1s 24ms/step - loss: 1.0776e-05 - acc: 1.0000 - val_loss: 0.1617 - val_acc: 0.9773\n",
            "Epoch 11/16\n",
            "47/47 [==============================] - 1s 23ms/step - loss: 1.0282e-05 - acc: 1.0000 - val_loss: 0.1633 - val_acc: 0.9773\n",
            "Epoch 12/16\n",
            "47/47 [==============================] - 1s 24ms/step - loss: 1.0152e-05 - acc: 1.0000 - val_loss: 0.1618 - val_acc: 0.9767\n",
            "Epoch 13/16\n",
            "47/47 [==============================] - 1s 25ms/step - loss: 9.5345e-06 - acc: 1.0000 - val_loss: 0.1639 - val_acc: 0.9767\n",
            "Epoch 14/16\n",
            "47/47 [==============================] - 1s 25ms/step - loss: 9.4340e-06 - acc: 1.0000 - val_loss: 0.1639 - val_acc: 0.9773\n",
            "Epoch 15/16\n",
            "47/47 [==============================] - 1s 25ms/step - loss: 8.8735e-06 - acc: 1.0000 - val_loss: 0.1638 - val_acc: 0.9767\n",
            "Epoch 16/16\n",
            "47/47 [==============================] - 1s 23ms/step - loss: 8.7329e-06 - acc: 1.0000 - val_loss: 0.1660 - val_acc: 0.9773\n"
          ]
        }
      ]
    },
    {
      "cell_type": "code",
      "source": [
        "model1.save(models_dir + 'CNN_MNIST_1c.h5')\n",
        "val_loss1b, val_acc1b = model1.evaluate(x_validation, y_validation)\n",
        "print('validation accuracy:', val_acc1b)\n",
        "print('validation loss:', val_loss1b)"
      ],
      "metadata": {
        "colab": {
          "base_uri": "https://localhost:8080/"
        },
        "id": "U0jnjws8-n6f",
        "outputId": "57fdece5-6fb3-40f3-dbd4-7fcba6f66476"
      },
      "execution_count": null,
      "outputs": [
        {
          "output_type": "stream",
          "name": "stdout",
          "text": [
            "\r 1/47 [..............................] - ETA: 1s - loss: 1.3473e-04 - acc: 1.0000"
          ]
        },
        {
          "output_type": "stream",
          "name": "stderr",
          "text": [
            "/usr/local/lib/python3.10/dist-packages/keras/src/engine/training.py:3103: UserWarning: You are saving your model as an HDF5 file via `model.save()`. This file format is considered legacy. We recommend using instead the native Keras format, e.g. `model.save('my_model.keras')`.\n",
            "  saving_api.save_model(\n"
          ]
        },
        {
          "output_type": "stream",
          "name": "stdout",
          "text": [
            "47/47 [==============================] - 0s 4ms/step - loss: 0.1660 - acc: 0.9773\n",
            "validation accuracy: 0.9773333072662354\n",
            "validation loss: 0.16596819460391998\n"
          ]
        }
      ]
    },
    {
      "cell_type": "markdown",
      "source": [
        "##Model 2"
      ],
      "metadata": {
        "id": "BjC_Q1PX_4eL"
      }
    },
    {
      "cell_type": "code",
      "source": [
        "from keras import regularizers\n",
        "\n",
        "model2 = Sequential()\n",
        "model2.add(Conv2D(filters=32, kernel_size=(3, 3),activation='relu', input_shape=(64,64,1)))\n",
        "model2.add(MaxPooling2D(pool_size=(2, 2)))\n",
        "model2.add(Dropout(0.20))\n",
        "model2.add(Conv2D(64, (3, 3), activation='relu',padding='same'))\n",
        "model2.add(MaxPooling2D(pool_size=(2, 2)))\n",
        "model2.add(Dropout(0.25))\n",
        "model2.add(Conv2D(128,(3, 3), activation='relu',padding='same'))\n",
        "model2.add(MaxPooling2D(pool_size=(2, 2)))\n",
        "model2.add(Dropout(0.30))\n",
        "model2.add(Conv2D(128,(3, 3), activation='relu',padding='same'))\n",
        "model2.add(Dropout(0.40))\n",
        "model2.add(Conv2D(256,(3, 3), activation='relu',padding='same'))\n",
        "model2.add(Dropout(0.50))\n",
        "model2.add(Flatten())\n",
        "model2.add(Dense(128, activation='relu', kernel_regularizer=regularizers.l1(0.001)))\n",
        "model2.add(Dropout(0.35))\n",
        "model2.add(Dense(64, activation='relu', kernel_regularizer=regularizers.l1(0.001)))\n",
        "model2.add(Dropout(0.25))\n",
        "model2.add(Dense(15, activation='softmax'))\n",
        "print(model2.summary())"
      ],
      "metadata": {
        "colab": {
          "base_uri": "https://localhost:8080/"
        },
        "id": "shV-TpDO-ny9",
        "outputId": "bc2309cf-9ce3-4bec-af56-fbba78198d73"
      },
      "execution_count": 17,
      "outputs": [
        {
          "output_type": "stream",
          "name": "stdout",
          "text": [
            "Model: \"sequential\"\n",
            "_________________________________________________________________\n",
            " Layer (type)                Output Shape              Param #   \n",
            "=================================================================\n",
            " conv2d (Conv2D)             (None, 62, 62, 32)        320       \n",
            "                                                                 \n",
            " max_pooling2d (MaxPooling2  (None, 31, 31, 32)        0         \n",
            " D)                                                              \n",
            "                                                                 \n",
            " dropout (Dropout)           (None, 31, 31, 32)        0         \n",
            "                                                                 \n",
            " conv2d_1 (Conv2D)           (None, 31, 31, 64)        18496     \n",
            "                                                                 \n",
            " max_pooling2d_1 (MaxPoolin  (None, 15, 15, 64)        0         \n",
            " g2D)                                                            \n",
            "                                                                 \n",
            " dropout_1 (Dropout)         (None, 15, 15, 64)        0         \n",
            "                                                                 \n",
            " conv2d_2 (Conv2D)           (None, 15, 15, 128)       73856     \n",
            "                                                                 \n",
            " max_pooling2d_2 (MaxPoolin  (None, 7, 7, 128)         0         \n",
            " g2D)                                                            \n",
            "                                                                 \n",
            " dropout_2 (Dropout)         (None, 7, 7, 128)         0         \n",
            "                                                                 \n",
            " conv2d_3 (Conv2D)           (None, 7, 7, 128)         147584    \n",
            "                                                                 \n",
            " dropout_3 (Dropout)         (None, 7, 7, 128)         0         \n",
            "                                                                 \n",
            " conv2d_4 (Conv2D)           (None, 7, 7, 256)         295168    \n",
            "                                                                 \n",
            " dropout_4 (Dropout)         (None, 7, 7, 256)         0         \n",
            "                                                                 \n",
            " flatten (Flatten)           (None, 12544)             0         \n",
            "                                                                 \n",
            " dense (Dense)               (None, 128)               1605760   \n",
            "                                                                 \n",
            " dropout_5 (Dropout)         (None, 128)               0         \n",
            "                                                                 \n",
            " dense_1 (Dense)             (None, 64)                8256      \n",
            "                                                                 \n",
            " dropout_6 (Dropout)         (None, 64)                0         \n",
            "                                                                 \n",
            " dense_2 (Dense)             (None, 15)                975       \n",
            "                                                                 \n",
            "=================================================================\n",
            "Total params: 2150415 (8.20 MB)\n",
            "Trainable params: 2150415 (8.20 MB)\n",
            "Non-trainable params: 0 (0.00 Byte)\n",
            "_________________________________________________________________\n",
            "None\n"
          ]
        }
      ]
    },
    {
      "cell_type": "code",
      "source": [
        "epochs = 50\n",
        "batch_size = 256\n",
        "early_stopping = EarlyStopping(monitor='val_loss', patience=2)\n",
        "\n",
        "model2.compile(optimizer='rmsprop',\n",
        "                loss='categorical_crossentropy',\n",
        "                metrics=['acc'])\n",
        "\n",
        "# Save weights of the model before training to enable to start training it again\n",
        "model2.save_weights(models_dir + 'CNN_MNIST_own_2_weights_init.h5')\n",
        "\n",
        "history2 = model2.fit(x_train, y_train, epochs = epochs, batch_size = batch_size, validation_data=(x_validation, y_validation))"
      ],
      "metadata": {
        "colab": {
          "base_uri": "https://localhost:8080/"
        },
        "id": "S1AGKLiOLFpO",
        "outputId": "13852f56-3018-42dc-9195-ef4a9789860a"
      },
      "execution_count": null,
      "outputs": [
        {
          "output_type": "stream",
          "name": "stdout",
          "text": [
            "Epoch 1/50\n",
            "47/47 [==============================] - 10s 95ms/step - loss: 5.7654 - acc: 0.0710 - val_loss: 3.8573 - val_acc: 0.0920\n",
            "Epoch 2/50\n",
            "47/47 [==============================] - 2s 50ms/step - loss: 3.7347 - acc: 0.1007 - val_loss: 3.5819 - val_acc: 0.1093\n",
            "Epoch 3/50\n",
            "47/47 [==============================] - 2s 52ms/step - loss: 3.5751 - acc: 0.0723 - val_loss: 3.5239 - val_acc: 0.0687\n",
            "Epoch 4/50\n",
            "47/47 [==============================] - 2s 48ms/step - loss: 3.4560 - acc: 0.1089 - val_loss: 3.3381 - val_acc: 0.1660\n",
            "Epoch 5/50\n",
            "47/47 [==============================] - 2s 49ms/step - loss: 3.3395 - acc: 0.1581 - val_loss: 3.2061 - val_acc: 0.1987\n",
            "Epoch 6/50\n",
            "47/47 [==============================] - 2s 49ms/step - loss: 3.2179 - acc: 0.1777 - val_loss: 3.0108 - val_acc: 0.2073\n",
            "Epoch 7/50\n",
            "47/47 [==============================] - 2s 49ms/step - loss: 3.0540 - acc: 0.2012 - val_loss: 2.8870 - val_acc: 0.2633\n",
            "Epoch 8/50\n",
            "47/47 [==============================] - 2s 48ms/step - loss: 2.9960 - acc: 0.2237 - val_loss: 2.7687 - val_acc: 0.2927\n",
            "Epoch 9/50\n",
            "47/47 [==============================] - 2s 50ms/step - loss: 2.9095 - acc: 0.2490 - val_loss: 2.6606 - val_acc: 0.3533\n",
            "Epoch 10/50\n",
            "47/47 [==============================] - 2s 49ms/step - loss: 2.8266 - acc: 0.2867 - val_loss: 2.5202 - val_acc: 0.3980\n",
            "Epoch 11/50\n",
            "47/47 [==============================] - 2s 49ms/step - loss: 2.7090 - acc: 0.3232 - val_loss: 2.7183 - val_acc: 0.3327\n",
            "Epoch 12/50\n",
            "47/47 [==============================] - 2s 49ms/step - loss: 2.5692 - acc: 0.3721 - val_loss: 2.5178 - val_acc: 0.4453\n",
            "Epoch 13/50\n",
            "47/47 [==============================] - 2s 47ms/step - loss: 2.3586 - acc: 0.4447 - val_loss: 1.9538 - val_acc: 0.5787\n",
            "Epoch 14/50\n",
            "47/47 [==============================] - 2s 50ms/step - loss: 2.2110 - acc: 0.5099 - val_loss: 2.3443 - val_acc: 0.4567\n",
            "Epoch 15/50\n",
            "47/47 [==============================] - 2s 48ms/step - loss: 2.0474 - acc: 0.5710 - val_loss: 1.8550 - val_acc: 0.6487\n",
            "Epoch 16/50\n",
            "47/47 [==============================] - 3s 54ms/step - loss: 1.9457 - acc: 0.6126 - val_loss: 1.6435 - val_acc: 0.7400\n",
            "Epoch 17/50\n",
            "47/47 [==============================] - 2s 52ms/step - loss: 1.8876 - acc: 0.6398 - val_loss: 1.5840 - val_acc: 0.7460\n",
            "Epoch 18/50\n",
            "47/47 [==============================] - 2s 47ms/step - loss: 1.7978 - acc: 0.6814 - val_loss: 1.5173 - val_acc: 0.7540\n",
            "Epoch 19/50\n",
            "47/47 [==============================] - 2s 49ms/step - loss: 1.7754 - acc: 0.6939 - val_loss: 1.4454 - val_acc: 0.8227\n",
            "Epoch 20/50\n",
            "47/47 [==============================] - 2s 50ms/step - loss: 1.6698 - acc: 0.7275 - val_loss: 1.3718 - val_acc: 0.8733\n",
            "Epoch 21/50\n",
            "47/47 [==============================] - 2s 47ms/step - loss: 1.6482 - acc: 0.7418 - val_loss: 1.4301 - val_acc: 0.8427\n",
            "Epoch 22/50\n",
            "47/47 [==============================] - 2s 48ms/step - loss: 1.6097 - acc: 0.7594 - val_loss: 1.3505 - val_acc: 0.8547\n",
            "Epoch 23/50\n",
            "47/47 [==============================] - 2s 48ms/step - loss: 1.5464 - acc: 0.7801 - val_loss: 1.3490 - val_acc: 0.8453\n",
            "Epoch 24/50\n",
            "47/47 [==============================] - 2s 47ms/step - loss: 1.5477 - acc: 0.7857 - val_loss: 1.2417 - val_acc: 0.8880\n",
            "Epoch 25/50\n",
            "47/47 [==============================] - 2s 51ms/step - loss: 1.5190 - acc: 0.7972 - val_loss: 1.2505 - val_acc: 0.9033\n",
            "Epoch 26/50\n",
            "47/47 [==============================] - 3s 54ms/step - loss: 1.4679 - acc: 0.8103 - val_loss: 1.1949 - val_acc: 0.9187\n",
            "Epoch 27/50\n",
            "47/47 [==============================] - 2s 48ms/step - loss: 1.4473 - acc: 0.8161 - val_loss: 1.1732 - val_acc: 0.9327\n",
            "Epoch 28/50\n",
            "47/47 [==============================] - 2s 49ms/step - loss: 1.4310 - acc: 0.8297 - val_loss: 1.1659 - val_acc: 0.9267\n",
            "Epoch 29/50\n",
            "47/47 [==============================] - 2s 49ms/step - loss: 1.4152 - acc: 0.8325 - val_loss: 1.1940 - val_acc: 0.9273\n",
            "Epoch 30/50\n",
            "47/47 [==============================] - 3s 54ms/step - loss: 1.4035 - acc: 0.8420 - val_loss: 1.1143 - val_acc: 0.9553\n",
            "Epoch 31/50\n",
            "47/47 [==============================] - 2s 50ms/step - loss: 1.3680 - acc: 0.8498 - val_loss: 1.1299 - val_acc: 0.9473\n",
            "Epoch 32/50\n",
            "47/47 [==============================] - 2s 48ms/step - loss: 1.3638 - acc: 0.8576 - val_loss: 1.1035 - val_acc: 0.9560\n",
            "Epoch 33/50\n",
            "47/47 [==============================] - 2s 47ms/step - loss: 1.3287 - acc: 0.8684 - val_loss: 1.1879 - val_acc: 0.9073\n",
            "Epoch 34/50\n",
            "47/47 [==============================] - 2s 49ms/step - loss: 1.3276 - acc: 0.8685 - val_loss: 1.1026 - val_acc: 0.9567\n",
            "Epoch 35/50\n",
            "47/47 [==============================] - 2s 51ms/step - loss: 1.3039 - acc: 0.8801 - val_loss: 1.0764 - val_acc: 0.9633\n",
            "Epoch 36/50\n",
            "47/47 [==============================] - 2s 49ms/step - loss: 1.2870 - acc: 0.8879 - val_loss: 1.0771 - val_acc: 0.9560\n",
            "Epoch 37/50\n",
            "47/47 [==============================] - 2s 48ms/step - loss: 1.2686 - acc: 0.8890 - val_loss: 1.0320 - val_acc: 0.9773\n",
            "Epoch 38/50\n",
            "47/47 [==============================] - 2s 49ms/step - loss: 1.2544 - acc: 0.8978 - val_loss: 1.0781 - val_acc: 0.9527\n",
            "Epoch 39/50\n",
            "47/47 [==============================] - 2s 49ms/step - loss: 1.2415 - acc: 0.8982 - val_loss: 1.0613 - val_acc: 0.9613\n",
            "Epoch 40/50\n",
            "47/47 [==============================] - 2s 47ms/step - loss: 1.2343 - acc: 0.9043 - val_loss: 1.0301 - val_acc: 0.9693\n",
            "Epoch 41/50\n",
            "47/47 [==============================] - 2s 52ms/step - loss: 1.2207 - acc: 0.9075 - val_loss: 1.0085 - val_acc: 0.9827\n",
            "Epoch 42/50\n",
            "47/47 [==============================] - 3s 63ms/step - loss: 1.2074 - acc: 0.9126 - val_loss: 1.0086 - val_acc: 0.9800\n",
            "Epoch 43/50\n",
            "47/47 [==============================] - 2s 50ms/step - loss: 1.1937 - acc: 0.9151 - val_loss: 1.0064 - val_acc: 0.9780\n",
            "Epoch 44/50\n",
            "47/47 [==============================] - 2s 49ms/step - loss: 1.1882 - acc: 0.9183 - val_loss: 1.0578 - val_acc: 0.9640\n",
            "Epoch 45/50\n",
            "47/47 [==============================] - 2s 49ms/step - loss: 1.1649 - acc: 0.9264 - val_loss: 0.9904 - val_acc: 0.9847\n",
            "Epoch 46/50\n",
            "47/47 [==============================] - 2s 47ms/step - loss: 1.1609 - acc: 0.9305 - val_loss: 0.9988 - val_acc: 0.9820\n",
            "Epoch 47/50\n",
            "47/47 [==============================] - 2s 49ms/step - loss: 1.1516 - acc: 0.9302 - val_loss: 0.9984 - val_acc: 0.9787\n",
            "Epoch 48/50\n",
            "47/47 [==============================] - 2s 48ms/step - loss: 1.1537 - acc: 0.9292 - val_loss: 0.9691 - val_acc: 0.9867\n",
            "Epoch 49/50\n",
            "47/47 [==============================] - 2s 49ms/step - loss: 1.1385 - acc: 0.9358 - val_loss: 0.9767 - val_acc: 0.9867\n",
            "Epoch 50/50\n",
            "47/47 [==============================] - 2s 47ms/step - loss: 1.1346 - acc: 0.9340 - val_loss: 0.9678 - val_acc: 0.9887\n"
          ]
        }
      ]
    },
    {
      "cell_type": "code",
      "source": [
        "model2.save(models_dir + 'CNN_MNIST_own_2.h5')"
      ],
      "metadata": {
        "colab": {
          "base_uri": "https://localhost:8080/"
        },
        "id": "9Dj_6b65MJTf",
        "outputId": "b3043a55-a42b-4aa5-c31f-337ce171d743"
      },
      "execution_count": null,
      "outputs": [
        {
          "output_type": "stream",
          "name": "stderr",
          "text": [
            "/usr/local/lib/python3.10/dist-packages/keras/src/engine/training.py:3103: UserWarning: You are saving your model as an HDF5 file via `model.save()`. This file format is considered legacy. We recommend using instead the native Keras format, e.g. `model.save('my_model.keras')`.\n",
            "  saving_api.save_model(\n"
          ]
        }
      ]
    },
    {
      "cell_type": "code",
      "source": [
        "val_loss2, val_acc2 = model1.evaluate(x_validation, y_validation)\n",
        "print('validation accuracy:', val_acc2)\n",
        "print('validation loss:', val_loss2)"
      ],
      "metadata": {
        "colab": {
          "base_uri": "https://localhost:8080/"
        },
        "id": "U8aGa2gLMOy4",
        "outputId": "345343a5-739d-43d1-d606-fe0950a9548c"
      },
      "execution_count": null,
      "outputs": [
        {
          "output_type": "stream",
          "name": "stdout",
          "text": [
            "47/47 [==============================] - 0s 3ms/step - loss: 0.1673 - acc: 0.9773\n",
            "validation accuracy: 0.9773333072662354\n",
            "validation loss: 0.16732001304626465\n"
          ]
        }
      ]
    },
    {
      "cell_type": "code",
      "source": [
        "argmax = np.argmin(history2.history['val_acc'])\n",
        "acc_max = history2.history['val_acc'][argmax]\n",
        "print ('The best accuracy ', acc_max, ' for validation set we achieved in epoch: ', argmax)"
      ],
      "metadata": {
        "colab": {
          "base_uri": "https://localhost:8080/"
        },
        "id": "YDfY4fagMTfd",
        "outputId": "ee1ceae4-96ed-41de-8f2c-1ad706e77093"
      },
      "execution_count": null,
      "outputs": [
        {
          "output_type": "stream",
          "name": "stdout",
          "text": [
            "The best accuracy  0.06866666674613953  for validation set we achieved in epoch:  2\n"
          ]
        }
      ]
    },
    {
      "cell_type": "code",
      "source": [
        "argmin = np.argmin(history1.history['val_loss'])\n",
        "loss_min = history1.history['val_loss'][argmin]\n",
        "print ('Overfitting stated after epoch: ', argmin, 'where the mininum loss was ', loss_min)"
      ],
      "metadata": {
        "colab": {
          "base_uri": "https://localhost:8080/"
        },
        "id": "p4sHCQpQMXnk",
        "outputId": "ee0cde4f-2127-4ec7-96ec-e78a7054d35d"
      },
      "execution_count": null,
      "outputs": [
        {
          "output_type": "stream",
          "name": "stdout",
          "text": [
            "Overfitting stated after epoch:  16 where the mininum loss was  0.08914589136838913\n"
          ]
        }
      ]
    },
    {
      "cell_type": "code",
      "source": [
        "epochs = 16\n",
        "batch_size = 256\n",
        "early_stopping = EarlyStopping(monitor='val_loss', patience=2)\n",
        "\n",
        "model2.compile(optimizer='rmsprop',\n",
        "                loss='categorical_crossentropy',\n",
        "                metrics=['acc'])\n",
        "\n",
        "# Save weights of the model before training to enable to start training it again\n",
        "model2.save_weights(models_dir + 'CNN_MNIST_own_2b_weights_init.h5')\n",
        "\n",
        "history3 = model2.fit(x_train, y_train, epochs = epochs, batch_size = batch_size, validation_data=(x_validation, y_validation))"
      ],
      "metadata": {
        "colab": {
          "base_uri": "https://localhost:8080/"
        },
        "id": "BL9Kg_PJMeXI",
        "outputId": "ff38e130-9461-42ac-b020-570367c49670"
      },
      "execution_count": null,
      "outputs": [
        {
          "output_type": "stream",
          "name": "stdout",
          "text": [
            "Epoch 1/16\n",
            "47/47 [==============================] - 35s 55ms/step - loss: 1.3881 - acc: 0.9466 - val_loss: 1.6050 - val_acc: 0.9867\n",
            "Epoch 2/16\n",
            "47/47 [==============================] - 2s 47ms/step - loss: 1.0574 - acc: 0.9647 - val_loss: 0.3257 - val_acc: 0.9947\n",
            "Epoch 3/16\n",
            "47/47 [==============================] - 2s 48ms/step - loss: 0.7667 - acc: 0.9692 - val_loss: 0.7438 - val_acc: 0.9927\n",
            "Epoch 4/16\n",
            "47/47 [==============================] - 2s 50ms/step - loss: 0.6926 - acc: 0.9705 - val_loss: 0.4542 - val_acc: 0.9947\n",
            "Epoch 5/16\n",
            "47/47 [==============================] - 2s 50ms/step - loss: 0.7021 - acc: 0.9732 - val_loss: 0.8144 - val_acc: 0.9867\n",
            "Epoch 6/16\n",
            "47/47 [==============================] - 2s 50ms/step - loss: 0.6926 - acc: 0.9757 - val_loss: 0.4594 - val_acc: 0.9933\n",
            "Epoch 7/16\n",
            "47/47 [==============================] - 2s 53ms/step - loss: 0.6941 - acc: 0.9747 - val_loss: 0.7778 - val_acc: 0.9960\n",
            "Epoch 8/16\n",
            "47/47 [==============================] - 3s 54ms/step - loss: 0.7136 - acc: 0.9729 - val_loss: 0.4694 - val_acc: 0.9953\n",
            "Epoch 9/16\n",
            "47/47 [==============================] - 2s 53ms/step - loss: 0.6966 - acc: 0.9772 - val_loss: 0.8059 - val_acc: 0.9893\n",
            "Epoch 10/16\n",
            "47/47 [==============================] - 3s 63ms/step - loss: 0.7043 - acc: 0.9775 - val_loss: 0.5116 - val_acc: 0.9913\n",
            "Epoch 11/16\n",
            "47/47 [==============================] - 3s 55ms/step - loss: 0.6971 - acc: 0.9792 - val_loss: 0.8050 - val_acc: 0.9920\n",
            "Epoch 12/16\n",
            "47/47 [==============================] - 2s 52ms/step - loss: 0.7176 - acc: 0.9721 - val_loss: 0.5229 - val_acc: 0.9860\n",
            "Epoch 13/16\n",
            "47/47 [==============================] - 2s 53ms/step - loss: 0.6929 - acc: 0.9783 - val_loss: 0.7893 - val_acc: 0.9940\n",
            "Epoch 14/16\n",
            "47/47 [==============================] - 2s 50ms/step - loss: 0.7096 - acc: 0.9770 - val_loss: 0.5051 - val_acc: 0.9927\n",
            "Epoch 15/16\n",
            "47/47 [==============================] - 3s 59ms/step - loss: 0.6928 - acc: 0.9785 - val_loss: 0.7853 - val_acc: 0.9927\n",
            "Epoch 16/16\n",
            "47/47 [==============================] - 3s 62ms/step - loss: 0.7007 - acc: 0.9774 - val_loss: 0.4869 - val_acc: 0.9953\n"
          ]
        }
      ]
    },
    {
      "cell_type": "code",
      "source": [
        "model2.save(models_dir + 'CNN_MNIST_2c.h5')\n",
        "val_loss2b, val_acc2b = model2.evaluate(x_validation, y_validation)\n",
        "print('validation accuracy:', val_acc2b)\n",
        "print('validation loss:', val_loss2b)"
      ],
      "metadata": {
        "colab": {
          "base_uri": "https://localhost:8080/"
        },
        "id": "hIX1zhq-M4Fj",
        "outputId": "efc022a1-b71e-4899-d7b4-a5b9c824ef6e"
      },
      "execution_count": null,
      "outputs": [
        {
          "output_type": "stream",
          "name": "stderr",
          "text": [
            "/usr/local/lib/python3.10/dist-packages/keras/src/engine/training.py:3103: UserWarning: You are saving your model as an HDF5 file via `model.save()`. This file format is considered legacy. We recommend using instead the native Keras format, e.g. `model.save('my_model.keras')`.\n",
            "  saving_api.save_model(\n"
          ]
        },
        {
          "output_type": "stream",
          "name": "stdout",
          "text": [
            "47/47 [==============================] - 0s 4ms/step - loss: 0.4969 - acc: 0.9900\n",
            "validation accuracy: 0.9900000095367432\n",
            "validation loss: 0.4968777298927307\n"
          ]
        }
      ]
    },
    {
      "cell_type": "markdown",
      "source": [
        "##Model 2 with optimizer, augmentation, Learning rate reduction durint the training process"
      ],
      "metadata": {
        "id": "EUiENToVQlac"
      }
    },
    {
      "cell_type": "code",
      "source": [
        "#################################33\n",
        "batch_size = 256 # size of mini-baches\n",
        "epochs = 50      # how many times all traing examples will be used to train the model\n",
        "\n",
        "\n",
        "opt = tensorflow.keras.optimizers.Adam(learning_rate=0.001) #, beta_1=0.9, beta_2=0.999, epsilon=1e-07, amsgrad=False, name=\"Adam\") # https://keras.io/api/optimizers/adam/\n",
        "model2.compile(loss=keras.losses.categorical_crossentropy,\n",
        "               optimizer=opt,\n",
        "               metrics=['acc']) # List of metrics to be evaluated by the model during training and validating: https://keras.io/models/model/#compile\n",
        "\n",
        "# Learning rate reduction durint the training process: https://keras.io/callbacks/#reducelronplateau\n",
        "learning_rate_reduction = ReduceLROnPlateau(monitor='val_acc',\n",
        "                                            factor=0.5,\n",
        "                                            patience=5,\n",
        "                                            verbose=1,\n",
        "                                            min_lr=0.001)\n",
        "\n",
        "#Augmentation\n",
        "datagen = ImageDataGenerator(\n",
        "          rotation_range=20,       # rotate images in degrees up to the given degrees\n",
        "          width_shift_range=0.1,   # shift images horizontally\n",
        "          height_shift_range=0.1,  # shift images vertically\n",
        "          horizontal_flip=True)    # flip images (left<->right)\n",
        "datagen.fit(x_train)\n",
        "\n",
        "# Train the model, validate, evaluate, and present scores\n",
        "history4=model2.fit(datagen.flow(x_train, y_train, batch_size=batch_size),\n",
        "                            epochs=epochs,\n",
        "                            steps_per_epoch=x_train.shape[0]//batch_size,\n",
        "                            validation_data=(x_validation, y_validation),\n",
        "                            verbose=1,\n",
        "                            callbacks=[learning_rate_reduction])"
      ],
      "metadata": {
        "colab": {
          "base_uri": "https://localhost:8080/"
        },
        "id": "LpoS0sEvQ19p",
        "outputId": "9ef7eed5-3b3d-437b-f986-e71867ea8088"
      },
      "execution_count": 25,
      "outputs": [
        {
          "output_type": "stream",
          "name": "stdout",
          "text": [
            "Epoch 1/50\n",
            "46/46 [==============================] - 10s 134ms/step - loss: 0.8985 - acc: 0.8487 - val_loss: 0.6588 - val_acc: 0.9507 - lr: 0.0010\n",
            "Epoch 2/50\n",
            "46/46 [==============================] - 7s 160ms/step - loss: 0.7913 - acc: 0.8638 - val_loss: 0.5351 - val_acc: 0.9353 - lr: 0.0010\n",
            "Epoch 3/50\n",
            "46/46 [==============================] - 6s 135ms/step - loss: 0.7661 - acc: 0.8684 - val_loss: 0.5293 - val_acc: 0.9547 - lr: 0.0010\n",
            "Epoch 4/50\n",
            "46/46 [==============================] - 7s 157ms/step - loss: 0.7707 - acc: 0.8733 - val_loss: 0.5228 - val_acc: 0.9560 - lr: 0.0010\n",
            "Epoch 5/50\n",
            "46/46 [==============================] - 6s 131ms/step - loss: 0.7576 - acc: 0.8827 - val_loss: 0.5208 - val_acc: 0.9467 - lr: 0.0010\n",
            "Epoch 6/50\n",
            "46/46 [==============================] - 7s 145ms/step - loss: 0.7286 - acc: 0.8888 - val_loss: 0.5697 - val_acc: 0.9533 - lr: 0.0010\n",
            "Epoch 7/50\n",
            "46/46 [==============================] - 7s 161ms/step - loss: 0.7257 - acc: 0.8934 - val_loss: 0.5738 - val_acc: 0.9593 - lr: 0.0010\n",
            "Epoch 8/50\n",
            "46/46 [==============================] - 6s 133ms/step - loss: 0.7016 - acc: 0.9016 - val_loss: 0.5642 - val_acc: 0.9567 - lr: 0.0010\n",
            "Epoch 9/50\n",
            "46/46 [==============================] - 6s 133ms/step - loss: 0.6961 - acc: 0.9045 - val_loss: 0.5666 - val_acc: 0.9653 - lr: 0.0010\n",
            "Epoch 10/50\n",
            "46/46 [==============================] - 7s 162ms/step - loss: 0.6904 - acc: 0.9081 - val_loss: 0.6785 - val_acc: 0.9340 - lr: 0.0010\n",
            "Epoch 11/50\n",
            "46/46 [==============================] - 7s 147ms/step - loss: 0.6632 - acc: 0.9143 - val_loss: 0.4757 - val_acc: 0.9613 - lr: 0.0010\n",
            "Epoch 12/50\n",
            "46/46 [==============================] - 6s 132ms/step - loss: 0.6638 - acc: 0.9152 - val_loss: 0.4837 - val_acc: 0.9613 - lr: 0.0010\n",
            "Epoch 13/50\n",
            "46/46 [==============================] - 9s 201ms/step - loss: 0.6420 - acc: 0.9252 - val_loss: 0.4735 - val_acc: 0.9687 - lr: 0.0010\n",
            "Epoch 14/50\n",
            "46/46 [==============================] - 8s 166ms/step - loss: 0.6299 - acc: 0.9277 - val_loss: 0.4304 - val_acc: 0.9720 - lr: 0.0010\n",
            "Epoch 15/50\n",
            "46/46 [==============================] - 7s 149ms/step - loss: 0.6164 - acc: 0.9302 - val_loss: 0.4346 - val_acc: 0.9767 - lr: 0.0010\n",
            "Epoch 16/50\n",
            "46/46 [==============================] - 6s 135ms/step - loss: 0.6240 - acc: 0.9274 - val_loss: 0.4743 - val_acc: 0.9773 - lr: 0.0010\n",
            "Epoch 17/50\n",
            "46/46 [==============================] - 7s 159ms/step - loss: 0.6279 - acc: 0.9313 - val_loss: 0.4262 - val_acc: 0.9800 - lr: 0.0010\n",
            "Epoch 18/50\n",
            "46/46 [==============================] - 7s 160ms/step - loss: 0.6037 - acc: 0.9361 - val_loss: 0.4239 - val_acc: 0.9827 - lr: 0.0010\n",
            "Epoch 19/50\n",
            "46/46 [==============================] - 6s 131ms/step - loss: 0.5876 - acc: 0.9409 - val_loss: 0.4675 - val_acc: 0.9833 - lr: 0.0010\n",
            "Epoch 20/50\n",
            "46/46 [==============================] - 7s 161ms/step - loss: 0.6029 - acc: 0.9387 - val_loss: 0.5082 - val_acc: 0.9820 - lr: 0.0010\n",
            "Epoch 21/50\n",
            "46/46 [==============================] - 6s 134ms/step - loss: 0.5780 - acc: 0.9441 - val_loss: 0.4736 - val_acc: 0.9807 - lr: 0.0010\n",
            "Epoch 22/50\n",
            "46/46 [==============================] - 7s 163ms/step - loss: 0.5846 - acc: 0.9429 - val_loss: 0.4682 - val_acc: 0.9833 - lr: 0.0010\n",
            "Epoch 23/50\n",
            "46/46 [==============================] - 6s 139ms/step - loss: 0.5882 - acc: 0.9403 - val_loss: 0.5293 - val_acc: 0.9853 - lr: 0.0010\n",
            "Epoch 24/50\n",
            "46/46 [==============================] - 7s 153ms/step - loss: 0.5783 - acc: 0.9440 - val_loss: 0.4217 - val_acc: 0.9833 - lr: 0.0010\n",
            "Epoch 25/50\n",
            "46/46 [==============================] - 8s 163ms/step - loss: 0.5865 - acc: 0.9464 - val_loss: 0.4237 - val_acc: 0.9900 - lr: 0.0010\n",
            "Epoch 26/50\n",
            "46/46 [==============================] - 7s 146ms/step - loss: 0.5676 - acc: 0.9505 - val_loss: 0.4047 - val_acc: 0.9920 - lr: 0.0010\n",
            "Epoch 27/50\n",
            "46/46 [==============================] - 7s 141ms/step - loss: 0.5558 - acc: 0.9489 - val_loss: 0.3820 - val_acc: 0.9893 - lr: 0.0010\n",
            "Epoch 28/50\n",
            "46/46 [==============================] - 7s 151ms/step - loss: 0.5499 - acc: 0.9528 - val_loss: 0.4260 - val_acc: 0.9920 - lr: 0.0010\n",
            "Epoch 29/50\n",
            "46/46 [==============================] - 6s 132ms/step - loss: 0.5521 - acc: 0.9533 - val_loss: 0.4734 - val_acc: 0.9887 - lr: 0.0010\n",
            "Epoch 30/50\n",
            "46/46 [==============================] - 7s 161ms/step - loss: 0.5559 - acc: 0.9516 - val_loss: 0.4789 - val_acc: 0.9833 - lr: 0.0010\n",
            "Epoch 31/50\n",
            "46/46 [==============================] - 6s 130ms/step - loss: 0.5471 - acc: 0.9535 - val_loss: 0.4621 - val_acc: 0.9847 - lr: 0.0010\n",
            "Epoch 32/50\n",
            "46/46 [==============================] - 7s 160ms/step - loss: 0.5220 - acc: 0.9559 - val_loss: 0.4768 - val_acc: 0.9920 - lr: 0.0010\n",
            "Epoch 33/50\n",
            "46/46 [==============================] - 7s 160ms/step - loss: 0.5191 - acc: 0.9616 - val_loss: 0.3804 - val_acc: 0.9913 - lr: 0.0010\n",
            "Epoch 34/50\n",
            "46/46 [==============================] - 6s 133ms/step - loss: 0.5204 - acc: 0.9593 - val_loss: 0.3903 - val_acc: 0.9893 - lr: 0.0010\n",
            "Epoch 35/50\n",
            "46/46 [==============================] - 6s 134ms/step - loss: 0.5245 - acc: 0.9570 - val_loss: 0.3949 - val_acc: 0.9893 - lr: 0.0010\n",
            "Epoch 36/50\n",
            "46/46 [==============================] - 6s 134ms/step - loss: 0.5359 - acc: 0.9562 - val_loss: 0.3590 - val_acc: 0.9920 - lr: 0.0010\n",
            "Epoch 37/50\n",
            "46/46 [==============================] - 7s 161ms/step - loss: 0.5072 - acc: 0.9635 - val_loss: 0.3657 - val_acc: 0.9920 - lr: 0.0010\n",
            "Epoch 38/50\n",
            "46/46 [==============================] - 6s 132ms/step - loss: 0.5215 - acc: 0.9573 - val_loss: 0.4106 - val_acc: 0.9940 - lr: 0.0010\n",
            "Epoch 39/50\n",
            "46/46 [==============================] - 7s 160ms/step - loss: 0.5146 - acc: 0.9616 - val_loss: 0.3617 - val_acc: 0.9940 - lr: 0.0010\n",
            "Epoch 40/50\n",
            "46/46 [==============================] - 6s 132ms/step - loss: 0.5108 - acc: 0.9613 - val_loss: 0.3799 - val_acc: 0.9920 - lr: 0.0010\n",
            "Epoch 41/50\n",
            "46/46 [==============================] - 6s 135ms/step - loss: 0.5186 - acc: 0.9597 - val_loss: 0.4090 - val_acc: 0.9933 - lr: 0.0010\n",
            "Epoch 42/50\n",
            "46/46 [==============================] - 7s 155ms/step - loss: 0.5178 - acc: 0.9644 - val_loss: 0.4402 - val_acc: 0.9953 - lr: 0.0010\n",
            "Epoch 43/50\n",
            "46/46 [==============================] - 6s 140ms/step - loss: 0.5174 - acc: 0.9619 - val_loss: 0.4560 - val_acc: 0.9933 - lr: 0.0010\n",
            "Epoch 44/50\n",
            "46/46 [==============================] - 7s 150ms/step - loss: 0.5188 - acc: 0.9613 - val_loss: 0.4219 - val_acc: 0.9947 - lr: 0.0010\n",
            "Epoch 45/50\n",
            "46/46 [==============================] - 8s 163ms/step - loss: 0.4962 - acc: 0.9680 - val_loss: 0.4710 - val_acc: 0.9933 - lr: 0.0010\n",
            "Epoch 46/50\n",
            "46/46 [==============================] - 7s 155ms/step - loss: 0.5054 - acc: 0.9652 - val_loss: 0.3635 - val_acc: 0.9953 - lr: 0.0010\n",
            "Epoch 47/50\n",
            "46/46 [==============================] - 6s 134ms/step - loss: 0.5021 - acc: 0.9636 - val_loss: 0.4183 - val_acc: 0.9893 - lr: 0.0010\n",
            "Epoch 48/50\n",
            "46/46 [==============================] - 7s 158ms/step - loss: 0.5115 - acc: 0.9648 - val_loss: 0.3783 - val_acc: 0.9933 - lr: 0.0010\n",
            "Epoch 49/50\n",
            "46/46 [==============================] - 6s 132ms/step - loss: 0.5006 - acc: 0.9655 - val_loss: 0.3543 - val_acc: 0.9920 - lr: 0.0010\n",
            "Epoch 50/50\n",
            "46/46 [==============================] - 6s 134ms/step - loss: 0.4865 - acc: 0.9657 - val_loss: 0.4157 - val_acc: 0.9940 - lr: 0.0010\n"
          ]
        }
      ]
    },
    {
      "cell_type": "code",
      "source": [
        "model2.save(models_dir + 'CNN_MNIST_3.h5')\n",
        "val_loss3, val_acc3 = model2.evaluate(x_validation, y_validation)\n",
        "print('validation accuracy:', val_acc3)\n",
        "print('validation loss:', val_loss3)"
      ],
      "metadata": {
        "colab": {
          "base_uri": "https://localhost:8080/"
        },
        "id": "8GbywpW4Q1zG",
        "outputId": "a4a350e3-63ce-4d89-c2d5-3826ad312ea7"
      },
      "execution_count": null,
      "outputs": [
        {
          "output_type": "stream",
          "name": "stderr",
          "text": [
            "/usr/local/lib/python3.10/dist-packages/keras/src/engine/training.py:3103: UserWarning: You are saving your model as an HDF5 file via `model.save()`. This file format is considered legacy. We recommend using instead the native Keras format, e.g. `model.save('my_model.keras')`.\n",
            "  saving_api.save_model(\n"
          ]
        },
        {
          "output_type": "stream",
          "name": "stdout",
          "text": [
            "47/47 [==============================] - 0s 4ms/step - loss: 0.4204 - acc: 0.9920\n",
            "validation accuracy: 0.9919999837875366\n",
            "validation loss: 0.42039424180984497\n"
          ]
        }
      ]
    },
    {
      "cell_type": "markdown",
      "source": [
        "#Comparison of models 1, 2 and 2 witg optimizer, augmentation..\n",
        "\n",
        "Model `model1`. It consists of three convolutional layers, each followed by a max pooling layer to reduce spatial dimensions. The convolutional layers use ReLU activation function to introduce non-linearity. After the convolutional layers, the data is flattened and passed through a fully connected dense layer with ReLU activation. Finally, there's an output layer with softmax activation, producing probabilities for 15 classes. Overall, the model is structured to extract features from input images and classify them into one of the 15 categories.\n",
        "\n",
        "Model `model2`. It consist four convolutional layers, each utilizing ReLU activation function and featuring varying numbers of filters (32, 64, 128, and 256) with a kernel size of 3x3. These layers are responsible for detecting patterns and features within the input images. Following each convolutional layer, there's a max pooling layer with a pool size of 2x2, serving to downsample the feature maps and aid in reducing computational complexity and preventing overfitting by retaining the most salient information. Dropout regularization is applied after every max pooling and convolutional layer, with the dropout rates progressively increasing throughout the network (0.20, 0.25, 0.30, 0.40, and 0.50), introducing randomness during training to prevent overreliance on specific neurons and thus enhancing model generalization. Post the convolutional layers, the data undergoes flattening into a one-dimensional array, facilitating the transition to the fully connected layers. Three dense layers follow, each employing ReLU activation. The initial dense layer comprises 128 units, followed by a dropout layer (0.35) for regularization. Subsequently, the second dense layer contains 64 units, followed by another dropout layer (0.25). The final dense layer consists of 15 units with softmax activation, producing probabilities indicative of each class. L1 regularization, applied with a regularization parameter of 0.001, is incorporated into the weights of the first two dense layers, serving to mitigate overfitting.\n",
        "\n",
        "Model `model2 - with Adam optimizer ...` The optimizer used is Adam with a learning rate of 0.001. This optimizer is known for its efficiency in training deep neural networks and is widely used in various tasks. Additionally, a learning rate reduction strategy called ReduceLROnPlateau is employed during training. This strategy monitors the validation accuracy and reduces the learning rate by a factor of 0.5 if no improvement is observed for 5 consecutive epochs. The minimum learning rate is set to 0.001 to prevent it from decreasing indefinitely. These optimization techniques help the model converge faster and potentially achieve better performance."
      ],
      "metadata": {
        "id": "xb0f3i3-_4ZY"
      }
    },
    {
      "cell_type": "markdown",
      "source": [
        "**PLOTS**"
      ],
      "metadata": {
        "id": "7LRf1SzHPSWw"
      }
    },
    {
      "cell_type": "code",
      "source": [
        "import matplotlib.pyplot as plt  # library for plotting math functions: https://matplotlib.org/stable/index.html\n",
        "\n",
        "def PlotTwoAccuracyComparison(acc2, val_acc2, acc3, val_acc3, acc4, val_acc4, lab2 = 'Model 1', lab3 = 'Model 2', lab4 = 'Model 2 vol2'):\n",
        "    #plt.clf()   # clear figure\n",
        "    plt.rcParams['image.interpolation'] = 'nearest'\n",
        "    plt.rcParams['image.cmap'] = 'gray'\n",
        "    plt.rcParams['figure.figsize'] = (15.0, 5.0) # set default size of plots\n",
        "    epochs = range(len(acc2))\n",
        "    plt.plot(epochs, acc2, 'bo', label='Training accuracy for ' + lab2)\n",
        "    plt.plot(epochs, val_acc2, 'b', label='Validation accuracy for ' + lab2)\n",
        "    plt.plot(epochs, acc3, 'ro', label='Training accuracy for ' + lab3)\n",
        "    plt.plot(epochs, val_acc3, 'r', label='Validation accuracy for ' + lab3)\n",
        "    plt.plot(epochs, acc4, 'co', label='Training accuracy for ' + lab4)\n",
        "    plt.plot(epochs, val_acc4, 'c', label='Validation accuracy for ' + lab4)\n",
        "    plt.title('Comparison of Training and Validation Accuracies')\n",
        "    plt.xlabel('Epochs')\n",
        "    plt.ylabel('Accuracy')\n",
        "    plt.legend(['Train Acc 2', 'Val Acc 2', 'Train Acc 3', 'Val Acc 3', 'Train Acc 4', 'Val Acc 4'], loc='lower right')\n",
        "    plt.show()\n",
        "\n",
        "def PlotTwoLossComparison(acc2, val_acc2, acc3, val_acc3, acc4, val_acc4, lab2 = 'Model 1', lab3 = 'Model 2', lab4 = 'Model 2 vol2'):\n",
        "    #plt.clf()   # clear figure\n",
        "    plt.rcParams['image.interpolation'] = 'nearest'\n",
        "    plt.rcParams['image.cmap'] = 'gray'\n",
        "    plt.rcParams['figure.figsize'] = (15.0, 5.0) # set default size of plots\n",
        "    epochs = range(len(loss2))\n",
        "    plt.plot(epochs, loss2, 'bo', label='Training loss for ' + lab2)\n",
        "    plt.plot(epochs, val_loss2, 'b', label='Validation loss for ' + lab2)\n",
        "    plt.plot(epochs, loss3, 'ro', label='Training loss for ' + lab3)\n",
        "    plt.plot(epochs, val_loss3, 'r', label='Validation loss for ' + lab3)\n",
        "    plt.plot(epochs, acc4, 'co', label='Training accuracy for ' + lab4)\n",
        "    plt.plot(epochs, val_acc4, 'c', label='Validation accuracy for ' + lab4)\n",
        "    plt.title('Comparison of Training and Validation Losses')\n",
        "    plt.xlabel('Epochs')\n",
        "    plt.ylabel('Loss')\n",
        "    plt.legend(['Train Loss 1', 'Val Loss 1', 'Train Loss 2', 'Val Loss 2', 'Train Acc 3', 'Val Acc 3'], loc='upper right')\n",
        "    plt.show()"
      ],
      "metadata": {
        "id": "cKWdgpXlOJTm"
      },
      "execution_count": null,
      "outputs": []
    },
    {
      "cell_type": "code",
      "source": [
        "# Compare the accuracies of three training processes\n",
        "acc2 = history2.history['acc']\n",
        "val_acc2 = history2.history['val_acc']\n",
        "acc3 = history3.history['acc']\n",
        "val_acc3 = history3.history['val_acc']\n",
        "acc4 = history4.history['acc']\n",
        "val_acc4 = history4.history['val_acc']\n",
        "\n",
        "PlotTwoAccuracyComparison(acc2, val_acc2, acc3, val_acc3, acc4, val_acc4, 'Model 1', 'Model 2', 'Model 2 vol2')"
      ],
      "metadata": {
        "colab": {
          "base_uri": "https://localhost:8080/",
          "height": 487
        },
        "id": "f4YnHHuKOJQG",
        "outputId": "32e0b868-1905-4289-9e23-3e8ac2a675a1"
      },
      "execution_count": null,
      "outputs": [
        {
          "output_type": "display_data",
          "data": {
            "text/plain": [
              "<Figure size 1500x500 with 1 Axes>"
            ],
            "image/png": "[encoded data removed]"
          },
          "metadata": {}
        }
      ]
    },
    {
      "cell_type": "code",
      "source": [
        "# Compare the losses of three training processes\n",
        "loss2 = history2.history['loss']\n",
        "val_loss2 = history2.history['val_loss']\n",
        "loss3 = history3.history['loss']\n",
        "val_loss3 = history3.history['val_loss']\n",
        "loss4 = history4.history['loss']\n",
        "val_loss4 = history4.history['val_loss']\n",
        "\n",
        "PlotTwoLossComparison(loss2, val_loss2, loss3, val_loss3, loss4, val_loss4, 'Model 1', 'Model 2', 'Model 2 vol2')"
      ],
      "metadata": {
        "colab": {
          "base_uri": "https://localhost:8080/",
          "height": 487
        },
        "id": "fQSUPeC5OJEd",
        "outputId": "8b80eb54-fb04-493a-cf6a-3aeb40d8d95e"
      },
      "execution_count": null,
      "outputs": [
        {
          "output_type": "display_data",
          "data": {
            "text/plain": [
              "<Figure size 1500x500 with 1 Axes>"
            ],
            "image/png": "[encoded data removed]"
          },
          "metadata": {}
        }
      ]
    },
    {
      "cell_type": "markdown",
      "source": [
        "\n",
        "   - The \"Train Loss\" lines represent the model's error or loss on the training dataset during the training process. A lower value indicates better performance, as the model is making fewer mistakes when predicting the training data. The \"Val Loss\" lines represent the model's error on a separate validation dataset that is not used for training; this metric is used to gauge how well the model is generalizing to new, unseen data. The \"Train Acc\" and \"Val Acc\" lines represent the model's accuracy on the training and validation datasets, respectively. An increasing accuracy trend is typically a good sign, indicating that the model is learning and improving its predictions over time.\n",
        "\n",
        "   - Fluctuations in the training loss can be due to several factors. It could be a sign of a learning rate that is too high, causing the model's updates to overshoot the optimal values during training. It could also indicate that the dataset is complex or noisy, making it difficult for the model to learn a stable pattern. Additionally, it could signify that the model's capacity is not sufficient to capture the underlying structure of the data, resulting in unstable learning.\n",
        "\n",
        "  overfitting\n",
        "   - Overfitting is typically indicated by a low training loss but a high validation loss, meaning the model performs well on the training data but poorly on unseen data. Underfitting is indicated by a high training loss, meaning the model is not performing well even on the training data. In this graph, dataset 2 seems to show a stable and low training and validation loss, which suggests good generalization without overfitting or underfitting. Model 1, however, shows high variability in training loss and a smoother but higher validation loss, which may suggest a potential overfitting issue, but more information would be needed for a conclusive assessment. The accuracy for dataset 3 increases steadily for both training and validation, which suggests good learning without clear signs of overfitting or underfitting."
      ],
      "metadata": {
        "id": "gYa2Wfu-aMMu"
      }
    },
    {
      "cell_type": "markdown",
      "source": [
        "Based on the above results, the model marked with light blue and number 4 was selected for further analysis. It will be compared during further tests."
      ],
      "metadata": {
        "id": "luok-p4TiT1G"
      }
    },
    {
      "cell_type": "markdown",
      "source": [
        "#Various optimizers comparison"
      ],
      "metadata": {
        "id": "0CpXM-pDiy5G"
      }
    },
    {
      "cell_type": "code",
      "source": [
        "batch_size = 256 # size of mini-baches\n",
        "epochs = 50\n",
        "\n",
        "# optimizer\n",
        "opt = optimizers.RMSprop(learning_rate=0.001, rho=0.9, momentum=0.0, epsilon=1e-07, centered=False, name=\"RMSprop\") # https://keras.io/api/optimizers/rmsprop/\n",
        "\n",
        "model2.compile(loss=keras.losses.categorical_crossentropy,\n",
        "               optimizer=opt,\n",
        "               metrics=['acc']) # List of metrics to be evaluated by the model during training and validating: https://keras.io/models/model/#compile\n",
        "\n",
        "# Learning rate reduction durint the training process: https://keras.io/callbacks/#reducelronplateau\n",
        "learning_rate_reduction = ReduceLROnPlateau(monitor='val_acc', # quantity to be monitored (val_loss)\n",
        "                                            factor=0.5, # factor by which the learning rate will be reduced. new_lr = lr * factor\n",
        "                                            patience=5, # number of epochs that produced the monitored quantity with no improvement after which training will be stopped\n",
        "                                            verbose=1,  # 0: quiet, 1: update messages.\n",
        "                                            min_lr=0.001) # lower bound on the learning rate\n",
        "\n",
        "datagen = ImageDataGenerator(\n",
        "          rotation_range=20,       # rotate images in degrees up to the given degrees\n",
        "          width_shift_range=0.1,   # shift images horizontally\n",
        "          height_shift_range=0.1,  # shift images vertically\n",
        "          horizontal_flip=True)    # flip images (left<->right)\n",
        "\n",
        "datagen.fit(x_train)\n",
        "\n",
        "history5=model2.fit(datagen.flow(x_train, y_train, batch_size=batch_size),\n",
        "                            epochs=epochs,\n",
        "                            steps_per_epoch=x_train.shape[0]//batch_size,  # no of mini-batches\n",
        "                            validation_data=(x_validation, y_validation),\n",
        "                            verbose=1,\n",
        "                            callbacks=[learning_rate_reduction])"
      ],
      "metadata": {
        "id": "eE5ciHuhj4_R",
        "colab": {
          "base_uri": "https://localhost:8080/"
        },
        "outputId": "db00dbf2-de23-4cc9-b19c-3b13971d753f"
      },
      "execution_count": 20,
      "outputs": [
        {
          "output_type": "stream",
          "name": "stdout",
          "text": [
            "Epoch 1/50\n",
            "46/46 [==============================] - 24s 249ms/step - loss: 5.8256 - acc: 0.0886 - val_loss: 3.8426 - val_acc: 0.1680 - lr: 0.0010\n",
            "Epoch 2/50\n",
            "46/46 [==============================] - 7s 160ms/step - loss: 3.7242 - acc: 0.1182 - val_loss: 3.6532 - val_acc: 0.1313 - lr: 0.0010\n",
            "Epoch 3/50\n",
            "46/46 [==============================] - 6s 135ms/step - loss: 3.4895 - acc: 0.1471 - val_loss: 3.3223 - val_acc: 0.1880 - lr: 0.0010\n",
            "Epoch 4/50\n",
            "46/46 [==============================] - 6s 130ms/step - loss: 3.3269 - acc: 0.1570 - val_loss: 3.2618 - val_acc: 0.1693 - lr: 0.0010\n",
            "Epoch 5/50\n",
            "46/46 [==============================] - 6s 132ms/step - loss: 3.2032 - acc: 0.1710 - val_loss: 3.0180 - val_acc: 0.2080 - lr: 0.0010\n",
            "Epoch 6/50\n",
            "46/46 [==============================] - 7s 159ms/step - loss: 3.1296 - acc: 0.1823 - val_loss: 3.5438 - val_acc: 0.1073 - lr: 0.0010\n",
            "Epoch 7/50\n",
            "46/46 [==============================] - 6s 137ms/step - loss: 3.0771 - acc: 0.1875 - val_loss: 2.8735 - val_acc: 0.2107 - lr: 0.0010\n",
            "Epoch 8/50\n",
            "46/46 [==============================] - 8s 168ms/step - loss: 3.0362 - acc: 0.2010 - val_loss: 3.0353 - val_acc: 0.1960 - lr: 0.0010\n",
            "Epoch 9/50\n",
            "46/46 [==============================] - 7s 161ms/step - loss: 2.9627 - acc: 0.2147 - val_loss: 3.0025 - val_acc: 0.1873 - lr: 0.0010\n",
            "Epoch 10/50\n",
            "46/46 [==============================] - 7s 149ms/step - loss: 2.9308 - acc: 0.2260 - val_loss: 3.1939 - val_acc: 0.1293 - lr: 0.0010\n",
            "Epoch 11/50\n",
            "46/46 [==============================] - 6s 130ms/step - loss: 2.8749 - acc: 0.2297 - val_loss: 3.3453 - val_acc: 0.1173 - lr: 0.0010\n",
            "Epoch 12/50\n",
            "46/46 [==============================] - 6s 132ms/step - loss: 2.8344 - acc: 0.2444 - val_loss: 2.6174 - val_acc: 0.3140 - lr: 0.0010\n",
            "Epoch 13/50\n",
            "46/46 [==============================] - 7s 150ms/step - loss: 2.7847 - acc: 0.2566 - val_loss: 2.6113 - val_acc: 0.3307 - lr: 0.0010\n",
            "Epoch 14/50\n",
            "46/46 [==============================] - 7s 143ms/step - loss: 2.7548 - acc: 0.2579 - val_loss: 2.5266 - val_acc: 0.3647 - lr: 0.0010\n",
            "Epoch 15/50\n",
            "46/46 [==============================] - 8s 177ms/step - loss: 2.7199 - acc: 0.2731 - val_loss: 2.9430 - val_acc: 0.2213 - lr: 0.0010\n",
            "Epoch 16/50\n",
            "46/46 [==============================] - 12s 257ms/step - loss: 2.6849 - acc: 0.2735 - val_loss: 2.4876 - val_acc: 0.4153 - lr: 0.0010\n",
            "Epoch 17/50\n",
            "46/46 [==============================] - 7s 163ms/step - loss: 2.6445 - acc: 0.2910 - val_loss: 2.7221 - val_acc: 0.2507 - lr: 0.0010\n",
            "Epoch 18/50\n",
            "46/46 [==============================] - 6s 134ms/step - loss: 2.6043 - acc: 0.3050 - val_loss: 2.4590 - val_acc: 0.3633 - lr: 0.0010\n",
            "Epoch 19/50\n",
            "46/46 [==============================] - 13s 286ms/step - loss: 2.5604 - acc: 0.3172 - val_loss: 2.2741 - val_acc: 0.4573 - lr: 0.0010\n",
            "Epoch 20/50\n",
            "46/46 [==============================] - 8s 165ms/step - loss: 2.5214 - acc: 0.3381 - val_loss: 2.2131 - val_acc: 0.5400 - lr: 0.0010\n",
            "Epoch 21/50\n",
            "46/46 [==============================] - 12s 254ms/step - loss: 2.4505 - acc: 0.3844 - val_loss: 2.1157 - val_acc: 0.5700 - lr: 0.0010\n",
            "Epoch 22/50\n",
            "46/46 [==============================] - 13s 276ms/step - loss: 2.4160 - acc: 0.4054 - val_loss: 2.0421 - val_acc: 0.6253 - lr: 0.0010\n",
            "Epoch 23/50\n",
            "46/46 [==============================] - 10s 219ms/step - loss: 2.3119 - acc: 0.4488 - val_loss: 2.0926 - val_acc: 0.5547 - lr: 0.0010\n",
            "Epoch 24/50\n",
            "46/46 [==============================] - 11s 238ms/step - loss: 2.2326 - acc: 0.4769 - val_loss: 1.9010 - val_acc: 0.6380 - lr: 0.0010\n",
            "Epoch 25/50\n",
            "46/46 [==============================] - 12s 256ms/step - loss: 2.2091 - acc: 0.4888 - val_loss: 1.8068 - val_acc: 0.7093 - lr: 0.0010\n",
            "Epoch 26/50\n",
            "46/46 [==============================] - 9s 205ms/step - loss: 2.1426 - acc: 0.5205 - val_loss: 1.8651 - val_acc: 0.6420 - lr: 0.0010\n",
            "Epoch 27/50\n",
            "46/46 [==============================] - 7s 149ms/step - loss: 2.1270 - acc: 0.5370 - val_loss: 1.7986 - val_acc: 0.6620 - lr: 0.0010\n",
            "Epoch 28/50\n",
            "46/46 [==============================] - 7s 141ms/step - loss: 2.0413 - acc: 0.5663 - val_loss: 1.7277 - val_acc: 0.6953 - lr: 0.0010\n",
            "Epoch 29/50\n",
            "46/46 [==============================] - 9s 205ms/step - loss: 2.0043 - acc: 0.5848 - val_loss: 1.5800 - val_acc: 0.8080 - lr: 0.0010\n",
            "Epoch 30/50\n",
            "46/46 [==============================] - 14s 305ms/step - loss: 1.9453 - acc: 0.6092 - val_loss: 1.5404 - val_acc: 0.7507 - lr: 0.0010\n",
            "Epoch 31/50\n",
            "46/46 [==============================] - 15s 339ms/step - loss: 1.9303 - acc: 0.6237 - val_loss: 1.5243 - val_acc: 0.7960 - lr: 0.0010\n",
            "Epoch 32/50\n",
            "46/46 [==============================] - 13s 282ms/step - loss: 1.8598 - acc: 0.6473 - val_loss: 1.4688 - val_acc: 0.8400 - lr: 0.0010\n",
            "Epoch 33/50\n",
            "46/46 [==============================] - 12s 259ms/step - loss: 1.8297 - acc: 0.6681 - val_loss: 1.4553 - val_acc: 0.8213 - lr: 0.0010\n",
            "Epoch 34/50\n",
            "46/46 [==============================] - 11s 229ms/step - loss: 1.8038 - acc: 0.6800 - val_loss: 1.3841 - val_acc: 0.8527 - lr: 0.0010\n",
            "Epoch 35/50\n",
            "46/46 [==============================] - 6s 132ms/step - loss: 1.7485 - acc: 0.6987 - val_loss: 1.4132 - val_acc: 0.8300 - lr: 0.0010\n",
            "Epoch 36/50\n",
            "46/46 [==============================] - 7s 161ms/step - loss: 1.7615 - acc: 0.7003 - val_loss: 1.3896 - val_acc: 0.8387 - lr: 0.0010\n",
            "Epoch 37/50\n",
            "46/46 [==============================] - 6s 135ms/step - loss: 1.6992 - acc: 0.7199 - val_loss: 1.3168 - val_acc: 0.8647 - lr: 0.0010\n",
            "Epoch 38/50\n",
            "46/46 [==============================] - 7s 160ms/step - loss: 1.7168 - acc: 0.7153 - val_loss: 1.4706 - val_acc: 0.7887 - lr: 0.0010\n",
            "Epoch 39/50\n",
            "46/46 [==============================] - 6s 133ms/step - loss: 1.6569 - acc: 0.7399 - val_loss: 1.3219 - val_acc: 0.8640 - lr: 0.0010\n",
            "Epoch 40/50\n",
            "46/46 [==============================] - 7s 163ms/step - loss: 1.6474 - acc: 0.7429 - val_loss: 1.2984 - val_acc: 0.8620 - lr: 0.0010\n",
            "Epoch 41/50\n",
            "46/46 [==============================] - 8s 163ms/step - loss: 1.6295 - acc: 0.7512 - val_loss: 1.2894 - val_acc: 0.8847 - lr: 0.0010\n",
            "Epoch 42/50\n",
            "46/46 [==============================] - 6s 134ms/step - loss: 1.6011 - acc: 0.7596 - val_loss: 1.3294 - val_acc: 0.8440 - lr: 0.0010\n",
            "Epoch 43/50\n",
            "46/46 [==============================] - 8s 166ms/step - loss: 1.5600 - acc: 0.7772 - val_loss: 1.5363 - val_acc: 0.7567 - lr: 0.0010\n",
            "Epoch 44/50\n",
            "46/46 [==============================] - 7s 146ms/step - loss: 1.5770 - acc: 0.7746 - val_loss: 1.2496 - val_acc: 0.8967 - lr: 0.0010\n",
            "Epoch 45/50\n",
            "46/46 [==============================] - 7s 147ms/step - loss: 1.5592 - acc: 0.7769 - val_loss: 1.1997 - val_acc: 0.9247 - lr: 0.0010\n",
            "Epoch 46/50\n",
            "46/46 [==============================] - 7s 149ms/step - loss: 1.5184 - acc: 0.7943 - val_loss: 1.1834 - val_acc: 0.9167 - lr: 0.0010\n",
            "Epoch 47/50\n",
            "46/46 [==============================] - 6s 138ms/step - loss: 1.5146 - acc: 0.7923 - val_loss: 1.1729 - val_acc: 0.9240 - lr: 0.0010\n",
            "Epoch 48/50\n",
            "46/46 [==============================] - 8s 163ms/step - loss: 1.4926 - acc: 0.8012 - val_loss: 1.2024 - val_acc: 0.9073 - lr: 0.0010\n",
            "Epoch 49/50\n",
            "46/46 [==============================] - 7s 162ms/step - loss: 1.4653 - acc: 0.8105 - val_loss: 1.2112 - val_acc: 0.8900 - lr: 0.0010\n",
            "Epoch 50/50\n",
            "46/46 [==============================] - 7s 161ms/step - loss: 1.4489 - acc: 0.8188 - val_loss: 1.1572 - val_acc: 0.9307 - lr: 0.0010\n"
          ]
        }
      ]
    },
    {
      "cell_type": "code",
      "source": [
        "val_loss3, val_acc3 = model2.evaluate(x_validation, y_validation)\n",
        "print('validation accuracy:', val_acc3)\n",
        "print('validation loss:', val_loss3)"
      ],
      "metadata": {
        "id": "-1DezY9Tj475",
        "colab": {
          "base_uri": "https://localhost:8080/"
        },
        "outputId": "2349436b-adbd-4cde-d5a6-8da25625a779"
      },
      "execution_count": 21,
      "outputs": [
        {
          "output_type": "stream",
          "name": "stdout",
          "text": [
            "47/47 [==============================] - 0s 6ms/step - loss: 1.1572 - acc: 0.9307\n",
            "validation accuracy: 0.9306666851043701\n",
            "validation loss: 1.1571786403656006\n"
          ]
        }
      ]
    },
    {
      "cell_type": "code",
      "source": [
        "batch_size = 256 # size of mini-baches\n",
        "epochs = 50\n",
        "\n",
        "# optimizer\n",
        "opt = optimizers.SGD(learning_rate=0.01, momentum=0.0, nesterov=False, name=\"SGD\")  # https://keras.io/api/optimizers/sgd/\n",
        "\n",
        "model2.compile(loss=keras.losses.categorical_crossentropy,\n",
        "               optimizer=opt,\n",
        "               metrics=['acc']) # List of metrics to be evaluated by the model during training and validating: https://keras.io/models/model/#compile\n",
        "\n",
        "# Learning rate reduction durint the training process: https://keras.io/callbacks/#reducelronplateau\n",
        "learning_rate_reduction = ReduceLROnPlateau(monitor='val_acc', # quantity to be monitored (val_loss)\n",
        "                                            factor=0.5, # factor by which the learning rate will be reduced. new_lr = lr * factor\n",
        "                                            patience=5, # number of epochs that produced the monitored quantity with no improvement after which training will be stopped\n",
        "                                            verbose=1,  # 0: quiet, 1: update messages.\n",
        "                                            min_lr=0.001) # lower bound on the learning rate\n",
        "\n",
        "datagen = ImageDataGenerator(\n",
        "          rotation_range=20,       # rotate images in degrees up to the given degrees\n",
        "          width_shift_range=0.1,   # shift images horizontally\n",
        "          height_shift_range=0.1,  # shift images vertically\n",
        "          horizontal_flip=True)    # flip images (left<->right)\n",
        "\n",
        "datagen.fit(x_train)\n",
        "\n",
        "history6=model2.fit(datagen.flow(x_train, y_train, batch_size=batch_size),\n",
        "                            epochs=epochs,\n",
        "                            steps_per_epoch=x_train.shape[0]//batch_size,  # no of mini-batches\n",
        "                            validation_data=(x_validation, y_validation),\n",
        "                            verbose=1,\n",
        "                            callbacks=[learning_rate_reduction])"
      ],
      "metadata": {
        "colab": {
          "base_uri": "https://localhost:8080/"
        },
        "id": "NwtoYoR0YcxU",
        "outputId": "e08f1ba2-52a1-4d43-f4a6-8eba96a999f2"
      },
      "execution_count": 23,
      "outputs": [
        {
          "output_type": "stream",
          "name": "stdout",
          "text": [
            "Epoch 1/50\n",
            "46/46 [==============================] - 8s 138ms/step - loss: 0.6548 - acc: 0.8511 - val_loss: 0.3828 - val_acc: 0.9353 - lr: 0.0100\n",
            "Epoch 2/50\n",
            "46/46 [==============================] - 11s 248ms/step - loss: 0.6025 - acc: 0.8552 - val_loss: 0.3807 - val_acc: 0.9333 - lr: 0.0100\n",
            "Epoch 3/50\n",
            "46/46 [==============================] - 16s 353ms/step - loss: 0.6003 - acc: 0.8552 - val_loss: 0.3869 - val_acc: 0.9327 - lr: 0.0100\n",
            "Epoch 4/50\n",
            "46/46 [==============================] - 17s 368ms/step - loss: 0.5849 - acc: 0.8580 - val_loss: 0.3685 - val_acc: 0.9340 - lr: 0.0100\n",
            "Epoch 5/50\n",
            "46/46 [==============================] - 7s 160ms/step - loss: 0.6032 - acc: 0.8523 - val_loss: 0.3975 - val_acc: 0.9247 - lr: 0.0100\n",
            "Epoch 6/50\n",
            "46/46 [==============================] - 8s 165ms/step - loss: 0.5830 - acc: 0.8584 - val_loss: 0.3712 - val_acc: 0.9400 - lr: 0.0100\n",
            "Epoch 7/50\n",
            "46/46 [==============================] - 7s 159ms/step - loss: 0.5879 - acc: 0.8562 - val_loss: 0.3532 - val_acc: 0.9460 - lr: 0.0100\n",
            "Epoch 8/50\n",
            "46/46 [==============================] - 6s 135ms/step - loss: 0.5850 - acc: 0.8499 - val_loss: 0.3673 - val_acc: 0.9407 - lr: 0.0100\n",
            "Epoch 9/50\n",
            "46/46 [==============================] - 10s 216ms/step - loss: 0.5795 - acc: 0.8522 - val_loss: 0.3623 - val_acc: 0.9400 - lr: 0.0100\n",
            "Epoch 10/50\n",
            "46/46 [==============================] - 11s 242ms/step - loss: 0.5797 - acc: 0.8547 - val_loss: 0.3495 - val_acc: 0.9487 - lr: 0.0100\n",
            "Epoch 11/50\n",
            "46/46 [==============================] - 6s 131ms/step - loss: 0.5709 - acc: 0.8609 - val_loss: 0.3644 - val_acc: 0.9367 - lr: 0.0100\n",
            "Epoch 12/50\n",
            "46/46 [==============================] - 7s 145ms/step - loss: 0.5666 - acc: 0.8612 - val_loss: 0.3509 - val_acc: 0.9407 - lr: 0.0100\n",
            "Epoch 13/50\n",
            "46/46 [==============================] - 7s 154ms/step - loss: 0.5735 - acc: 0.8581 - val_loss: 0.3502 - val_acc: 0.9360 - lr: 0.0100\n",
            "Epoch 14/50\n",
            "46/46 [==============================] - 6s 130ms/step - loss: 0.5656 - acc: 0.8574 - val_loss: 0.3635 - val_acc: 0.9353 - lr: 0.0100\n",
            "Epoch 15/50\n",
            "46/46 [==============================] - ETA: 0s - loss: 0.5719 - acc: 0.8559\n",
            "Epoch 15: ReduceLROnPlateau reducing learning rate to 0.004999999888241291.\n",
            "46/46 [==============================] - 6s 132ms/step - loss: 0.5719 - acc: 0.8559 - val_loss: 0.3612 - val_acc: 0.9313 - lr: 0.0100\n",
            "Epoch 16/50\n",
            "46/46 [==============================] - 11s 247ms/step - loss: 0.5439 - acc: 0.8652 - val_loss: 0.3418 - val_acc: 0.9420 - lr: 0.0050\n",
            "Epoch 17/50\n",
            "46/46 [==============================] - 11s 248ms/step - loss: 0.5459 - acc: 0.8636 - val_loss: 0.3423 - val_acc: 0.9460 - lr: 0.0050\n",
            "Epoch 18/50\n",
            "46/46 [==============================] - 9s 191ms/step - loss: 0.5508 - acc: 0.8590 - val_loss: 0.3355 - val_acc: 0.9393 - lr: 0.0050\n",
            "Epoch 19/50\n",
            "46/46 [==============================] - 7s 162ms/step - loss: 0.5533 - acc: 0.8621 - val_loss: 0.3381 - val_acc: 0.9460 - lr: 0.0050\n",
            "Epoch 20/50\n",
            "46/46 [==============================] - ETA: 0s - loss: 0.5394 - acc: 0.8687\n",
            "Epoch 20: ReduceLROnPlateau reducing learning rate to 0.0024999999441206455.\n",
            "46/46 [==============================] - 6s 132ms/step - loss: 0.5394 - acc: 0.8687 - val_loss: 0.3368 - val_acc: 0.9420 - lr: 0.0050\n",
            "Epoch 21/50\n",
            "46/46 [==============================] - 6s 134ms/step - loss: 0.5316 - acc: 0.8644 - val_loss: 0.3307 - val_acc: 0.9460 - lr: 0.0025\n",
            "Epoch 22/50\n",
            "46/46 [==============================] - 7s 160ms/step - loss: 0.5268 - acc: 0.8698 - val_loss: 0.3352 - val_acc: 0.9413 - lr: 0.0025\n",
            "Epoch 23/50\n",
            "46/46 [==============================] - 6s 129ms/step - loss: 0.5454 - acc: 0.8648 - val_loss: 0.3443 - val_acc: 0.9400 - lr: 0.0025\n",
            "Epoch 24/50\n",
            "46/46 [==============================] - 7s 159ms/step - loss: 0.5344 - acc: 0.8664 - val_loss: 0.3300 - val_acc: 0.9453 - lr: 0.0025\n",
            "Epoch 25/50\n",
            "46/46 [==============================] - ETA: 0s - loss: 0.5355 - acc: 0.8710\n",
            "Epoch 25: ReduceLROnPlateau reducing learning rate to 0.0012499999720603228.\n",
            "46/46 [==============================] - 6s 131ms/step - loss: 0.5355 - acc: 0.8710 - val_loss: 0.3350 - val_acc: 0.9413 - lr: 0.0025\n",
            "Epoch 26/50\n",
            "46/46 [==============================] - 7s 160ms/step - loss: 0.5293 - acc: 0.8678 - val_loss: 0.3317 - val_acc: 0.9447 - lr: 0.0012\n",
            "Epoch 27/50\n",
            "46/46 [==============================] - 7s 160ms/step - loss: 0.5332 - acc: 0.8660 - val_loss: 0.3320 - val_acc: 0.9427 - lr: 0.0012\n",
            "Epoch 28/50\n",
            "46/46 [==============================] - 6s 131ms/step - loss: 0.5333 - acc: 0.8667 - val_loss: 0.3279 - val_acc: 0.9480 - lr: 0.0012\n",
            "Epoch 29/50\n",
            "46/46 [==============================] - 6s 131ms/step - loss: 0.5341 - acc: 0.8673 - val_loss: 0.3309 - val_acc: 0.9447 - lr: 0.0012\n",
            "Epoch 30/50\n",
            "46/46 [==============================] - ETA: 0s - loss: 0.5202 - acc: 0.8697\n",
            "Epoch 30: ReduceLROnPlateau reducing learning rate to 0.001.\n",
            "46/46 [==============================] - 7s 161ms/step - loss: 0.5202 - acc: 0.8697 - val_loss: 0.3286 - val_acc: 0.9467 - lr: 0.0012\n",
            "Epoch 31/50\n",
            "46/46 [==============================] - 7s 144ms/step - loss: 0.5291 - acc: 0.8701 - val_loss: 0.3258 - val_acc: 0.9487 - lr: 0.0010\n",
            "Epoch 32/50\n",
            "46/46 [==============================] - 6s 132ms/step - loss: 0.5208 - acc: 0.8696 - val_loss: 0.3307 - val_acc: 0.9447 - lr: 0.0010\n",
            "Epoch 33/50\n",
            "46/46 [==============================] - 6s 130ms/step - loss: 0.5224 - acc: 0.8713 - val_loss: 0.3294 - val_acc: 0.9447 - lr: 0.0010\n",
            "Epoch 34/50\n",
            "46/46 [==============================] - 7s 159ms/step - loss: 0.5327 - acc: 0.8685 - val_loss: 0.3306 - val_acc: 0.9427 - lr: 0.0010\n",
            "Epoch 35/50\n",
            "46/46 [==============================] - 6s 132ms/step - loss: 0.5365 - acc: 0.8698 - val_loss: 0.3330 - val_acc: 0.9420 - lr: 0.0010\n",
            "Epoch 36/50\n",
            "46/46 [==============================] - 7s 162ms/step - loss: 0.5309 - acc: 0.8662 - val_loss: 0.3303 - val_acc: 0.9433 - lr: 0.0010\n",
            "Epoch 37/50\n",
            "46/46 [==============================] - 6s 131ms/step - loss: 0.5269 - acc: 0.8699 - val_loss: 0.3277 - val_acc: 0.9453 - lr: 0.0010\n",
            "Epoch 38/50\n",
            "46/46 [==============================] - 7s 159ms/step - loss: 0.5220 - acc: 0.8699 - val_loss: 0.3303 - val_acc: 0.9433 - lr: 0.0010\n",
            "Epoch 39/50\n",
            "46/46 [==============================] - 6s 133ms/step - loss: 0.5345 - acc: 0.8634 - val_loss: 0.3302 - val_acc: 0.9440 - lr: 0.0010\n",
            "Epoch 40/50\n",
            "46/46 [==============================] - 7s 159ms/step - loss: 0.5239 - acc: 0.8726 - val_loss: 0.3291 - val_acc: 0.9453 - lr: 0.0010\n",
            "Epoch 41/50\n",
            "46/46 [==============================] - 6s 135ms/step - loss: 0.5252 - acc: 0.8675 - val_loss: 0.3266 - val_acc: 0.9487 - lr: 0.0010\n",
            "Epoch 42/50\n",
            "46/46 [==============================] - 8s 167ms/step - loss: 0.5325 - acc: 0.8661 - val_loss: 0.3323 - val_acc: 0.9433 - lr: 0.0010\n",
            "Epoch 43/50\n",
            "46/46 [==============================] - 7s 162ms/step - loss: 0.5343 - acc: 0.8646 - val_loss: 0.3341 - val_acc: 0.9407 - lr: 0.0010\n",
            "Epoch 44/50\n",
            "46/46 [==============================] - 6s 134ms/step - loss: 0.5346 - acc: 0.8666 - val_loss: 0.3310 - val_acc: 0.9427 - lr: 0.0010\n",
            "Epoch 45/50\n",
            "46/46 [==============================] - 7s 163ms/step - loss: 0.5170 - acc: 0.8689 - val_loss: 0.3266 - val_acc: 0.9440 - lr: 0.0010\n",
            "Epoch 46/50\n",
            "46/46 [==============================] - 7s 162ms/step - loss: 0.5338 - acc: 0.8631 - val_loss: 0.3299 - val_acc: 0.9440 - lr: 0.0010\n",
            "Epoch 47/50\n",
            "46/46 [==============================] - 6s 131ms/step - loss: 0.5301 - acc: 0.8702 - val_loss: 0.3329 - val_acc: 0.9420 - lr: 0.0010\n",
            "Epoch 48/50\n",
            "46/46 [==============================] - 7s 162ms/step - loss: 0.5317 - acc: 0.8677 - val_loss: 0.3316 - val_acc: 0.9440 - lr: 0.0010\n",
            "Epoch 49/50\n",
            "46/46 [==============================] - 6s 135ms/step - loss: 0.5145 - acc: 0.8725 - val_loss: 0.3251 - val_acc: 0.9453 - lr: 0.0010\n",
            "Epoch 50/50\n",
            "46/46 [==============================] - 7s 161ms/step - loss: 0.5273 - acc: 0.8720 - val_loss: 0.3299 - val_acc: 0.9433 - lr: 0.0010\n"
          ]
        }
      ]
    },
    {
      "cell_type": "code",
      "source": [
        "val_loss3, val_acc3 = model2.evaluate(x_validation, y_validation)\n",
        "print('validation accuracy:', val_acc3)\n",
        "print('validation loss:', val_loss3)"
      ],
      "metadata": {
        "id": "_FfL5qC2mQNs",
        "colab": {
          "base_uri": "https://localhost:8080/"
        },
        "outputId": "a92900a2-e15b-43d7-d0a0-e5574fdf441b"
      },
      "execution_count": 24,
      "outputs": [
        {
          "output_type": "stream",
          "name": "stdout",
          "text": [
            "47/47 [==============================] - 0s 4ms/step - loss: 0.3299 - acc: 0.9433\n",
            "validation accuracy: 0.9433333277702332\n",
            "validation loss: 0.3298780024051666\n"
          ]
        }
      ]
    },
    {
      "cell_type": "code",
      "source": [
        "batch_size = 256 # size of mini-baches\n",
        "epochs = 50\n",
        "\n",
        "# optimizer\n",
        "opt = optimizers.Adagrad(learning_rate=0.001, initial_accumulator_value=0.1, epsilon=1e-07, name=\"Adagrad\")  # https://keras.io/api/optimizers/adagrad/\n",
        "\n",
        "model2.compile(loss=keras.losses.categorical_crossentropy,\n",
        "               optimizer=opt,\n",
        "               metrics=['acc']) # List of metrics to be evaluated by the model during training and validating: https://keras.io/models/model/#compile\n",
        "\n",
        "# Learning rate reduction durint the training process: https://keras.io/callbacks/#reducelronplateau\n",
        "learning_rate_reduction = ReduceLROnPlateau(monitor='val_acc', # quantity to be monitored (val_loss)\n",
        "                                            factor=0.5, # factor by which the learning rate will be reduced. new_lr = lr * factor\n",
        "                                            patience=5, # number of epochs that produced the monitored quantity with no improvement after which training will be stopped\n",
        "                                            verbose=1,  # 0: quiet, 1: update messages.\n",
        "                                            min_lr=0.001) # lower bound on the learning rate\n",
        "\n",
        "datagen = ImageDataGenerator(\n",
        "          rotation_range=20,       # rotate images in degrees up to the given degrees\n",
        "          width_shift_range=0.1,   # shift images horizontally\n",
        "          height_shift_range=0.1,  # shift images vertically\n",
        "          horizontal_flip=True)    # flip images (left<->right)\n",
        "\n",
        "datagen.fit(x_train)\n",
        "\n",
        "history7=model2.fit(datagen.flow(x_train, y_train, batch_size=batch_size),\n",
        "                            epochs=epochs,\n",
        "                            steps_per_epoch=x_train.shape[0]//batch_size,  # no of mini-batches\n",
        "                            validation_data=(x_validation, y_validation),\n",
        "                            verbose=1,\n",
        "                            callbacks=[learning_rate_reduction])"
      ],
      "metadata": {
        "id": "eiIdvbonj4tE",
        "colab": {
          "base_uri": "https://localhost:8080/"
        },
        "outputId": "ecb1d9e3-1693-4b6c-9569-5f7888972bdf"
      },
      "execution_count": 26,
      "outputs": [
        {
          "output_type": "stream",
          "name": "stdout",
          "text": [
            "Epoch 1/50\n",
            "46/46 [==============================] - 9s 151ms/step - loss: 0.3939 - acc: 0.9722 - val_loss: 0.2435 - val_acc: 0.9947 - lr: 0.0010\n",
            "Epoch 2/50\n",
            "46/46 [==============================] - 7s 147ms/step - loss: 0.3034 - acc: 0.9722 - val_loss: 0.2065 - val_acc: 0.9947 - lr: 0.0010\n",
            "Epoch 3/50\n",
            "46/46 [==============================] - 7s 143ms/step - loss: 0.2754 - acc: 0.9727 - val_loss: 0.1994 - val_acc: 0.9947 - lr: 0.0010\n",
            "Epoch 4/50\n",
            "46/46 [==============================] - 7s 146ms/step - loss: 0.2743 - acc: 0.9750 - val_loss: 0.1938 - val_acc: 0.9947 - lr: 0.0010\n",
            "Epoch 5/50\n",
            "46/46 [==============================] - 6s 132ms/step - loss: 0.2653 - acc: 0.9751 - val_loss: 0.1897 - val_acc: 0.9947 - lr: 0.0010\n",
            "Epoch 6/50\n",
            "46/46 [==============================] - 7s 162ms/step - loss: 0.2662 - acc: 0.9743 - val_loss: 0.1860 - val_acc: 0.9947 - lr: 0.0010\n",
            "Epoch 7/50\n",
            "46/46 [==============================] - 6s 129ms/step - loss: 0.2530 - acc: 0.9768 - val_loss: 0.1826 - val_acc: 0.9947 - lr: 0.0010\n",
            "Epoch 8/50\n",
            "46/46 [==============================] - 7s 159ms/step - loss: 0.2557 - acc: 0.9757 - val_loss: 0.1808 - val_acc: 0.9947 - lr: 0.0010\n",
            "Epoch 9/50\n",
            "46/46 [==============================] - 6s 130ms/step - loss: 0.2491 - acc: 0.9758 - val_loss: 0.1761 - val_acc: 0.9947 - lr: 0.0010\n",
            "Epoch 10/50\n",
            "46/46 [==============================] - 7s 162ms/step - loss: 0.2465 - acc: 0.9758 - val_loss: 0.1731 - val_acc: 0.9947 - lr: 0.0010\n",
            "Epoch 11/50\n",
            "46/46 [==============================] - 7s 158ms/step - loss: 0.2474 - acc: 0.9762 - val_loss: 0.1712 - val_acc: 0.9947 - lr: 0.0010\n",
            "Epoch 12/50\n",
            "46/46 [==============================] - 6s 131ms/step - loss: 0.2441 - acc: 0.9762 - val_loss: 0.1689 - val_acc: 0.9947 - lr: 0.0010\n",
            "Epoch 13/50\n",
            "46/46 [==============================] - 6s 136ms/step - loss: 0.2397 - acc: 0.9768 - val_loss: 0.1662 - val_acc: 0.9947 - lr: 0.0010\n",
            "Epoch 14/50\n",
            "46/46 [==============================] - 7s 151ms/step - loss: 0.2371 - acc: 0.9770 - val_loss: 0.1641 - val_acc: 0.9947 - lr: 0.0010\n",
            "Epoch 15/50\n",
            "46/46 [==============================] - 6s 133ms/step - loss: 0.2388 - acc: 0.9746 - val_loss: 0.1618 - val_acc: 0.9947 - lr: 0.0010\n",
            "Epoch 16/50\n",
            "46/46 [==============================] - 7s 157ms/step - loss: 0.2278 - acc: 0.9778 - val_loss: 0.1602 - val_acc: 0.9947 - lr: 0.0010\n",
            "Epoch 17/50\n",
            "46/46 [==============================] - 6s 132ms/step - loss: 0.2315 - acc: 0.9744 - val_loss: 0.1586 - val_acc: 0.9947 - lr: 0.0010\n",
            "Epoch 18/50\n",
            "46/46 [==============================] - 6s 134ms/step - loss: 0.2320 - acc: 0.9745 - val_loss: 0.1570 - val_acc: 0.9947 - lr: 0.0010\n",
            "Epoch 19/50\n",
            "46/46 [==============================] - 7s 157ms/step - loss: 0.2258 - acc: 0.9775 - val_loss: 0.1546 - val_acc: 0.9947 - lr: 0.0010\n",
            "Epoch 20/50\n",
            "46/46 [==============================] - 6s 131ms/step - loss: 0.2268 - acc: 0.9763 - val_loss: 0.1532 - val_acc: 0.9947 - lr: 0.0010\n",
            "Epoch 21/50\n",
            "46/46 [==============================] - 7s 162ms/step - loss: 0.2255 - acc: 0.9774 - val_loss: 0.1519 - val_acc: 0.9947 - lr: 0.0010\n",
            "Epoch 22/50\n",
            "46/46 [==============================] - 7s 157ms/step - loss: 0.2212 - acc: 0.9770 - val_loss: 0.1513 - val_acc: 0.9947 - lr: 0.0010\n",
            "Epoch 23/50\n",
            "46/46 [==============================] - 6s 135ms/step - loss: 0.2161 - acc: 0.9788 - val_loss: 0.1501 - val_acc: 0.9947 - lr: 0.0010\n",
            "Epoch 24/50\n",
            "46/46 [==============================] - 6s 134ms/step - loss: 0.2215 - acc: 0.9746 - val_loss: 0.1474 - val_acc: 0.9947 - lr: 0.0010\n",
            "Epoch 25/50\n",
            "46/46 [==============================] - 6s 131ms/step - loss: 0.2180 - acc: 0.9776 - val_loss: 0.1468 - val_acc: 0.9947 - lr: 0.0010\n",
            "Epoch 26/50\n",
            "46/46 [==============================] - 7s 159ms/step - loss: 0.2233 - acc: 0.9735 - val_loss: 0.1454 - val_acc: 0.9947 - lr: 0.0010\n",
            "Epoch 27/50\n",
            "46/46 [==============================] - 6s 132ms/step - loss: 0.2186 - acc: 0.9759 - val_loss: 0.1437 - val_acc: 0.9947 - lr: 0.0010\n",
            "Epoch 28/50\n",
            "46/46 [==============================] - 7s 159ms/step - loss: 0.2180 - acc: 0.9758 - val_loss: 0.1428 - val_acc: 0.9947 - lr: 0.0010\n",
            "Epoch 29/50\n",
            "46/46 [==============================] - 6s 131ms/step - loss: 0.2140 - acc: 0.9762 - val_loss: 0.1407 - val_acc: 0.9947 - lr: 0.0010\n",
            "Epoch 30/50\n",
            "46/46 [==============================] - 7s 158ms/step - loss: 0.2153 - acc: 0.9747 - val_loss: 0.1398 - val_acc: 0.9947 - lr: 0.0010\n",
            "Epoch 31/50\n",
            "46/46 [==============================] - 6s 133ms/step - loss: 0.2155 - acc: 0.9742 - val_loss: 0.1399 - val_acc: 0.9947 - lr: 0.0010\n",
            "Epoch 32/50\n",
            "46/46 [==============================] - 7s 161ms/step - loss: 0.2112 - acc: 0.9767 - val_loss: 0.1378 - val_acc: 0.9947 - lr: 0.0010\n",
            "Epoch 33/50\n",
            "46/46 [==============================] - 6s 138ms/step - loss: 0.2086 - acc: 0.9768 - val_loss: 0.1371 - val_acc: 0.9947 - lr: 0.0010\n",
            "Epoch 34/50\n",
            "46/46 [==============================] - 7s 152ms/step - loss: 0.2129 - acc: 0.9742 - val_loss: 0.1360 - val_acc: 0.9947 - lr: 0.0010\n",
            "Epoch 35/50\n",
            "46/46 [==============================] - 7s 144ms/step - loss: 0.2066 - acc: 0.9763 - val_loss: 0.1355 - val_acc: 0.9947 - lr: 0.0010\n",
            "Epoch 36/50\n",
            "46/46 [==============================] - 7s 142ms/step - loss: 0.2059 - acc: 0.9764 - val_loss: 0.1343 - val_acc: 0.9947 - lr: 0.0010\n",
            "Epoch 37/50\n",
            "46/46 [==============================] - 7s 147ms/step - loss: 0.2003 - acc: 0.9773 - val_loss: 0.1339 - val_acc: 0.9947 - lr: 0.0010\n",
            "Epoch 38/50\n",
            "46/46 [==============================] - 7s 141ms/step - loss: 0.2063 - acc: 0.9753 - val_loss: 0.1334 - val_acc: 0.9947 - lr: 0.0010\n",
            "Epoch 39/50\n",
            "46/46 [==============================] - 7s 154ms/step - loss: 0.2041 - acc: 0.9756 - val_loss: 0.1324 - val_acc: 0.9947 - lr: 0.0010\n",
            "Epoch 40/50\n",
            "46/46 [==============================] - 6s 130ms/step - loss: 0.2046 - acc: 0.9770 - val_loss: 0.1314 - val_acc: 0.9947 - lr: 0.0010\n",
            "Epoch 41/50\n",
            "46/46 [==============================] - 6s 133ms/step - loss: 0.2041 - acc: 0.9751 - val_loss: 0.1311 - val_acc: 0.9947 - lr: 0.0010\n",
            "Epoch 42/50\n",
            "46/46 [==============================] - 7s 157ms/step - loss: 0.2079 - acc: 0.9745 - val_loss: 0.1310 - val_acc: 0.9947 - lr: 0.0010\n",
            "Epoch 43/50\n",
            "46/46 [==============================] - 7s 142ms/step - loss: 0.2048 - acc: 0.9754 - val_loss: 0.1301 - val_acc: 0.9947 - lr: 0.0010\n",
            "Epoch 44/50\n",
            "46/46 [==============================] - 7s 143ms/step - loss: 0.2007 - acc: 0.9770 - val_loss: 0.1286 - val_acc: 0.9947 - lr: 0.0010\n",
            "Epoch 45/50\n",
            "46/46 [==============================] - 7s 147ms/step - loss: 0.2108 - acc: 0.9743 - val_loss: 0.1292 - val_acc: 0.9947 - lr: 0.0010\n",
            "Epoch 46/50\n",
            "46/46 [==============================] - 6s 133ms/step - loss: 0.1962 - acc: 0.9786 - val_loss: 0.1285 - val_acc: 0.9947 - lr: 0.0010\n",
            "Epoch 47/50\n",
            "46/46 [==============================] - 6s 131ms/step - loss: 0.2095 - acc: 0.9743 - val_loss: 0.1282 - val_acc: 0.9947 - lr: 0.0010\n",
            "Epoch 48/50\n",
            "46/46 [==============================] - 6s 132ms/step - loss: 0.2043 - acc: 0.9724 - val_loss: 0.1276 - val_acc: 0.9947 - lr: 0.0010\n",
            "Epoch 49/50\n",
            "46/46 [==============================] - 7s 155ms/step - loss: 0.1999 - acc: 0.9763 - val_loss: 0.1266 - val_acc: 0.9947 - lr: 0.0010\n",
            "Epoch 50/50\n",
            "46/46 [==============================] - 6s 131ms/step - loss: 0.2019 - acc: 0.9759 - val_loss: 0.1268 - val_acc: 0.9947 - lr: 0.0010\n"
          ]
        }
      ]
    },
    {
      "cell_type": "code",
      "source": [
        "val_loss3, val_acc3 = model2.evaluate(x_validation, y_validation)\n",
        "print('validation accuracy:', val_acc3)\n",
        "print('validation loss:', val_loss3)"
      ],
      "metadata": {
        "id": "LJdDnNZ6mRsH"
      },
      "execution_count": null,
      "outputs": []
    },
    {
      "cell_type": "markdown",
      "source": [
        "Results"
      ],
      "metadata": {
        "id": "KfcG9gxIjvCy"
      }
    },
    {
      "cell_type": "code",
      "source": [
        "import matplotlib.pyplot as plt  # library for plotting math functions: https://matplotlib.org/stable/index.html\n",
        "\n",
        "def PlotTwoAccuracyComparison(acc1, val_acc1, acc2, val_acc2, acc3, val_acc3,  acc4, val_acc4, lab1 = 'Model 1', lab2 = 'Model 2', lab3 = 'Model 3', lab4 = 'Model 4'):\n",
        "    #plt.clf()   # clear figure\n",
        "    plt.rcParams['image.interpolation'] = 'nearest'\n",
        "    plt.rcParams['image.cmap'] = 'gray'\n",
        "    plt.rcParams['figure.figsize'] = (15.0, 5.0) # set default size of plots\n",
        "    epochs = range(len(acc1))\n",
        "    plt.plot(epochs, acc1, 'bo', label='Training accuracy for ' + lab1)\n",
        "    plt.plot(epochs, val_acc1, 'b', label='Validation accuracy for ' + lab1)\n",
        "    plt.plot(epochs, acc2, 'ro', label='Training accuracy for ' + lab2)\n",
        "    plt.plot(epochs, val_acc2, 'r', label='Validation accuracy for ' + lab2)\n",
        "    plt.plot(epochs, acc3, 'co', label='Training accuracy for ' + lab3)\n",
        "    plt.plot(epochs, val_acc3, 'c', label='Validation accuracy for ' + lab3)\n",
        "    plt.plot(epochs, acc3, 'yo', label='Training accuracy for ' + lab3)\n",
        "    plt.plot(epochs, val_acc3, 'y', label='Validation accuracy for ' + lab3)\n",
        "    plt.title('Comparison of Training and Validation Accuracies for different types of optymizers')\n",
        "    plt.xlabel('Epochs')\n",
        "    plt.ylabel('Accuracy')\n",
        "    plt.legend(['Train Acc 1 - Adam', 'Val Acc 1 - Adam', 'Train Acc 2 - RMSprop', 'Val Acc 2 - RMSprop', 'Train Acc 3 - SGD', 'Val Acc 3 - SGD', 'Train Acc 4 - Adgar', 'Val Acc 4 - Adgar'], loc='lower right')\n",
        "    plt.show()\n",
        "\n",
        "def PlotTwoLossComparison(loss1, val_loss1, loss2, val_loss2, loss3, val_loss3, lab1 = 'Model 1', lab2 = 'Model 2', lab3 = 'Model 3'):\n",
        "    #plt.clf()   # clear figure\n",
        "    plt.rcParams['image.interpolation'] = 'nearest'\n",
        "    plt.rcParams['image.cmap'] = 'gray'\n",
        "    plt.rcParams['figure.figsize'] = (15.0, 5.0) # set default size of plots\n",
        "    epochs = range(len(loss1))\n",
        "    plt.plot(epochs, loss1, 'bo', label='Training loss for ' + lab1)\n",
        "    plt.plot(epochs, val_loss1, 'b', label='Validation loss for ' + lab1)\n",
        "    plt.plot(epochs, loss2, 'ro', label='Training loss for ' + lab2)\n",
        "    plt.plot(epochs, val_loss2, 'r', label='Validation loss for ' + lab2)\n",
        "    plt.plot(epochs, loss3, 'co', label='Training loss for ' + lab3)\n",
        "    plt.plot(epochs, val_loss3, 'c', label='Validation loss for ' + lab3)\n",
        "    plt.title('Comparison of Training and Validation Losses for different types of optymizers')\n",
        "    plt.xlabel('Epochs')\n",
        "    plt.ylabel('Loss')\n",
        "    plt.legend(['Train Loss 1 - Adam', 'Val Loss 1 - Adam', 'Train Loss 2 - RMSprop', 'Val Loss 2 - RMSprop', 'Train Loss 3 - SGD', 'Val Loss 3 - SGD', 'Train Acc 4 - Adgar', 'Val Acc 4 - Adgar'], loc='upper right')\n",
        "    plt.show()"
      ],
      "metadata": {
        "id": "Ly3S2JCmXIUR"
      },
      "execution_count": null,
      "outputs": []
    },
    {
      "cell_type": "code",
      "source": [
        "# Compare the accuracies of three training processes\n",
        "acc1 = history4.history['acc']\n",
        "val_acc1 = history4.history['val_acc']\n",
        "acc2 = history5.history['acc']\n",
        "val_acc2 = history5.history['val_acc']\n",
        "acc3 = history6.history['acc']\n",
        "val_acc3 = history6.history['val_acc']\n",
        "acc4 = history7.history['acc']\n",
        "val_acc4 = history7.history['val_acc']\n",
        "\n",
        "PlotTwoAccuracyComparison(acc1, val_acc1, acc2, val_acc2, acc3, val_acc3,  acc3, val_acc3, 'Model 1', 'Model 2', 'Model 3', 'Model 4')"
      ],
      "metadata": {
        "id": "e0YBWY_VXgKO"
      },
      "execution_count": null,
      "outputs": []
    },
    {
      "cell_type": "code",
      "source": [
        "# Compare the losses of three training processes\n",
        "loss1 = history4.history['loss']\n",
        "val_loss1 = history4.history['val_loss']\n",
        "loss2 = history5.history['loss']\n",
        "val_loss2 = history5.history['val_loss']\n",
        "loss3 = history6.history['loss']\n",
        "val_loss3 = history6.history['val_loss']\n",
        "loss4 = history7.history['loss']\n",
        "val_loss4 = history7.history['val_loss']\n",
        "\n",
        "PlotTwoLossComparison(loss1, val_loss1, loss2, val_loss2, loss3, val_loss3, loss3, val_loss3, 'Model 1', 'Model 2', 'Model 3', 'Model 4')"
      ],
      "metadata": {
        "id": "DG_0vDD_XgGu"
      },
      "execution_count": null,
      "outputs": []
    },
    {
      "cell_type": "markdown",
      "source": [
        "#Different numbers of comparison filters\n",
        "\n",
        "The previous example had 32 filters"
      ],
      "metadata": {
        "id": "WJYA51JGikQ0"
      }
    },
    {
      "cell_type": "code",
      "source": [
        "epochs = 50\n",
        "batch_size = 256\n",
        "early_stopping = EarlyStopping(monitor='val_loss', patience=2)\n",
        "\n",
        "model2.compile(optimizer='rmsprop',\n",
        "                loss='categorical_crossentropy',\n",
        "                metrics=['acc'])\n",
        "\n",
        "# Save weights of the model before training to enable to start training it again\n",
        "model2.save_weights(models_dir + 'CNN_MNIST_own_2b_weights_init.h5')\n",
        "\n",
        "history3 = model2.fit(x_train, y_train, epochs = epochs, batch_size = batch_size, validation_data=(x_validation, y_validation))"
      ],
      "metadata": {
        "id": "3seHY8m5ijrz"
      },
      "execution_count": null,
      "outputs": []
    },
    {
      "cell_type": "code",
      "source": [
        "model2.save(models_dir + 'CNN_MNIST_2c.h5')\n",
        "val_loss2b, val_acc2b = model2.evaluate(x_validation, y_validation)\n",
        "print('validation accuracy:', val_acc2b)\n",
        "print('validation loss:', val_loss2b)"
      ],
      "metadata": {
        "id": "uGmXocM_ijeY"
      },
      "execution_count": null,
      "outputs": []
    },
    {
      "cell_type": "code",
      "source": [
        "batch_size = 256 # size of mini-baches\n",
        "epochs = 16      # how many times all traing examples will be used to train the model\n",
        "\n",
        "opt = tensorflow.keras.optimizers.Adam(learning_rate=0.001) #, beta_1=0.9, beta_2=0.999, epsilon=1e-07, amsgrad=False, name=\"Adam\") # https://keras.io/api/optimizers/adam/\n",
        "model2.compile(loss=keras.losses.categorical_crossentropy,\n",
        "               optimizer=opt,\n",
        "               metrics=['acc'])\n",
        "\n",
        "learning_rate_reduction = ReduceLROnPlateau(monitor='val_acc',\n",
        "                                            factor=0.5,\n",
        "                                            patience=5,\n",
        "                                            verbose=1,\n",
        "                                            min_lr=0.001)\n",
        "#Augmentation\n",
        "datagen = ImageDataGenerator(\n",
        "          rotation_range=20,       # rotate images in degrees up to the given degrees\n",
        "          width_shift_range=0.1,   # shift images horizontally\n",
        "          height_shift_range=0.1,  # shift images vertically\n",
        "          horizontal_flip=True)    # flip images (left<->right)\n",
        "datagen.fit(x_train)\n",
        "\n",
        "# Train the model, validate, evaluate, and present scores\n",
        "history4=model2.fit(datagen.flow(x_train, y_train, batch_size=batch_size),\n",
        "                            epochs=epochs,\n",
        "                            steps_per_epoch=x_train.shape[0]//batch_size,\n",
        "                            validation_data=(x_validation, y_validation),\n",
        "                            verbose=1,\n",
        "                            callbacks=[learning_rate_reduction])"
      ],
      "metadata": {
        "id": "C_s3U8uQjM7W"
      },
      "execution_count": null,
      "outputs": []
    },
    {
      "cell_type": "code",
      "source": [],
      "metadata": {
        "id": "ZhjvXr6fjM36"
      },
      "execution_count": null,
      "outputs": []
    },
    {
      "cell_type": "markdown",
      "source": [],
      "metadata": {
        "id": "an_LfvzSjMDn"
      }
    },
    {
      "cell_type": "markdown",
      "source": [
        "**Confusion matrix**"
      ],
      "metadata": {
        "id": "itXjaiGRQZgT"
      }
    },
    {
      "cell_type": "code",
      "source": [
        "LABELS= ['0', '1', '2', '3', '4', '5', '6', '7', '8', '9']\n",
        "\n",
        "# Define the confusion matrix for the results\n",
        "def show_confusion_matrix(validations, predictions, num_classes):\n",
        "    matrix = metrics.confusion_matrix(validations, predictions)\n",
        "    plt.figure(figsize=(num_classes, num_classes))\n",
        "    hm = sns.heatmap(matrix,\n",
        "                cmap='coolwarm',\n",
        "                linecolor='white',\n",
        "                linewidths=1,\n",
        "                xticklabels=LABELS,\n",
        "                yticklabels=LABELS,\n",
        "                annot=True,\n",
        "                fmt='d')\n",
        "    plt.yticks(rotation = 0)  # Don't rotate (vertically) the y-axis labels\n",
        "    #hm.invert_yaxis() # Invert the labels of the y-axis\n",
        "    hm.set_ylim(0, len(matrix))\n",
        "    plt.title('Confusion Matrix')\n",
        "    plt.ylabel('True Label')\n",
        "    plt.xlabel('Predicted Label')\n",
        "    plt.show()"
      ],
      "metadata": {
        "id": "mJ0RiuEzOJBH"
      },
      "execution_count": null,
      "outputs": []
    },
    {
      "cell_type": "code",
      "source": [
        "# Evaluate the model and print out the final scores for the val set\n",
        "score = model2.evaluate(x_val, y_val, verbose=0)  # evaluate the model on the val set\n",
        "print('Validation loss:', score[0])      # print out the loss = score[0] (generalization error)\n",
        "print('Validation accuracy:', score[1])  # print out the generalization accuracy = score[1] of the model on val set\n",
        "\n",
        "# Use the trained model for predictions of the val data (in this case, we use validation data as val data)\n",
        "y_pred_val = model2.predict(x_val)\n",
        "\n",
        "# Take the class with the highest probability from the val predictions as a winning one\n",
        "max_y_pred_val = np.argmax(y_pred_val, axis=1)\n",
        "max_y_val = np.argmax(y_val, axis=1)\n",
        "\n",
        "# Show the confution matrix of the collected results\n",
        "show_confusion_matrix(max_y_val, max_y_pred_val, num_classes)\n",
        "\n",
        "# Print classification report\n",
        "print(classification_report(max_y_val, max_y_pred_val))"
      ],
      "metadata": {
        "id": "-hjAV36fOI-4"
      },
      "execution_count": null,
      "outputs": []
    },
    {
      "cell_type": "markdown",
      "source": [
        "**Find out misclassified**"
      ],
      "metadata": {
        "id": "IPEid5k1QBUv"
      }
    },
    {
      "cell_type": "code",
      "source": [
        "\n",
        "classcheck = max_y_val - max_y_pred_val  # 0 - when the class is the same, 1 - otherwise\n",
        "misclassified = np.where(classcheck != 0)[0]\n",
        "num_misclassified = len(misclassified)\n",
        "print('Number of misclassified examples: ', str(num_misclassified))\n",
        "print('Misclassified examples:')\n",
        "print(misclassified)\n",
        "\n",
        "print('Misclassified images (original class : predicted class):')\n",
        "plt.rcParams['figure.figsize'] = (2.5, 2.5) # set default size of plots\n",
        "col = 10\n",
        "row = 2 * math.ceil(num_misclassified / col)\n",
        "fig = plt.figure(figsize=(col, row))\n",
        "for index in range(0,num_misclassified):\n",
        "    fig.add_subplot(row, col, index + 1 + col*(index//col))\n",
        "    plt.axis('off')\n",
        "    plt.imshow(x_val[misclassified[index]].reshape(img_rows, img_cols)) # index of the val sample picture\n",
        "    plt.title(str(max_y_val[misclassified[index]]) + \":\" + str(max_y_pred_val[misclassified[index]]))\n",
        "plt.show()"
      ],
      "metadata": {
        "id": "6UvXMOqEP_a0"
      },
      "execution_count": null,
      "outputs": []
    },
    {
      "cell_type": "markdown",
      "source": [],
      "metadata": {
        "id": "ErMhkq0h_4hx"
      }
    }
  ]
}